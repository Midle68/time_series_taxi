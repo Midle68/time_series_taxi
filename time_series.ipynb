{
 "cells": [
  {
   "cell_type": "markdown",
   "metadata": {},
   "source": [
    "#  Проект \"Прогнозирование заказов такси\"\n",
    "\n",
    "Предоставлены данные Яндекс Практикумом о заказах такси в аэропортах. Чтобы привлекать больше водителей в период пиковой нагрузки, нужно спрогнозировать количество заказов такси на следующий час. Постройте модель для такого предсказания. Целевая переменная (\"количество заказов\") находится в столбце `num_orders`.\n",
    "\n",
    "Размер тестовой выборки должен быть 0.1 от общей выборки.\n",
    "\n",
    "Значение метрики *RMSE* на тестовой выборке должно быть не больше 48.\n",
    "\n",
    "<a name='introduction'></a>\n",
    "<br>**План работы**:\n",
    "1. [Подготовка данных](#1.-Подготовка-данных):\n",
    "    - [Импортирование библиотек и файлов](#1.1-Импортирование-библиотек-и-файлов);\n",
    "    - [Предобработка данных](#1.-2.-Предобработка-данных);\n",
    "    - [Feature Engineering](#1.-3.-Feature-Engineering).\n",
    "2. [Анализ данных](#2.-Анализ-данных);\n",
    "3. [Обучение](#3.-Обучение):\n",
    "    - [Подготовка данных к обучению](#3.-1.-Подготовка-данных-к-обучению);\n",
    "    - [ML-модели](#3.-2.-ML-модели):\n",
    "        - [Дерево решений](#3.-2.-1.-Дерево-решений);\n",
    "        - [Случайный лес](#3.-2.-2.-Случайный-лес);\n",
    "        - [Линейная регрессия](#3.-2.-3.-Линейная-регрессия);\n",
    "        - [Ridge-регрессия](#3.-2.-4.-Ridge-регрессия);\n",
    "        - [Lasso-регрессия](#3.-2.-5.-Lasso-регрессия);\n",
    "        - [Нейронная сеть](#3.-2.-6.-Нейронная-сеть).\n",
    "4. [Тестирование](#4.-Тестирование)\n",
    "5. [Выводы](#5.-Выводы)"
   ]
  },
  {
   "cell_type": "markdown",
   "metadata": {},
   "source": [
    "## 1. Подготовка данных\n",
    "[Введение](#introduction)"
   ]
  },
  {
   "cell_type": "markdown",
   "metadata": {},
   "source": [
    "### 1. 1. Импортирование библиотек и файлов\n",
    "[Введение](#introduction)"
   ]
  },
  {
   "cell_type": "code",
   "execution_count": 1,
   "metadata": {},
   "outputs": [
    {
     "data": {
      "text/html": [
       "<div>\n",
       "<style scoped>\n",
       "    .dataframe tbody tr th:only-of-type {\n",
       "        vertical-align: middle;\n",
       "    }\n",
       "\n",
       "    .dataframe tbody tr th {\n",
       "        vertical-align: top;\n",
       "    }\n",
       "\n",
       "    .dataframe thead th {\n",
       "        text-align: right;\n",
       "    }\n",
       "</style>\n",
       "<table border=\"1\" class=\"dataframe\">\n",
       "  <thead>\n",
       "    <tr style=\"text-align: right;\">\n",
       "      <th></th>\n",
       "      <th>num_orders</th>\n",
       "    </tr>\n",
       "    <tr>\n",
       "      <th>datetime</th>\n",
       "      <th></th>\n",
       "    </tr>\n",
       "  </thead>\n",
       "  <tbody>\n",
       "    <tr>\n",
       "      <th>2018-03-01 00:00:00</th>\n",
       "      <td>9</td>\n",
       "    </tr>\n",
       "    <tr>\n",
       "      <th>2018-03-01 00:10:00</th>\n",
       "      <td>14</td>\n",
       "    </tr>\n",
       "    <tr>\n",
       "      <th>2018-03-01 00:20:00</th>\n",
       "      <td>28</td>\n",
       "    </tr>\n",
       "    <tr>\n",
       "      <th>2018-03-01 00:30:00</th>\n",
       "      <td>20</td>\n",
       "    </tr>\n",
       "    <tr>\n",
       "      <th>2018-03-01 00:40:00</th>\n",
       "      <td>32</td>\n",
       "    </tr>\n",
       "  </tbody>\n",
       "</table>\n",
       "</div>"
      ],
      "text/plain": [
       "                     num_orders\n",
       "datetime                       \n",
       "2018-03-01 00:00:00           9\n",
       "2018-03-01 00:10:00          14\n",
       "2018-03-01 00:20:00          28\n",
       "2018-03-01 00:30:00          20\n",
       "2018-03-01 00:40:00          32"
      ]
     },
     "metadata": {},
     "output_type": "display_data"
    }
   ],
   "source": [
    "from math import ceil\n",
    "import matplotlib.pyplot as plt\n",
    "import numpy as np\n",
    "import pandas as pd\n",
    "import random\n",
    "from statsmodels.tsa.seasonal import seasonal_decompose\n",
    "\n",
    "from sklearn.ensemble import RandomForestRegressor\n",
    "from sklearn.linear_model import Lasso, LinearRegression, Ridge\n",
    "from sklearn.metrics import confusion_matrix, ConfusionMatrixDisplay, mean_squared_error\n",
    "from sklearn.model_selection import GridSearchCV, TimeSeriesSplit, train_test_split\n",
    "from sklearn.preprocessing import StandardScaler\n",
    "from sklearn.tree import DecisionTreeRegressor\n",
    "\n",
    "import torch\n",
    "from torch import nn\n",
    "\n",
    "# Загрузка файла\n",
    "df_taxi = pd.read_csv('/datasets/taxi.csv', index_col=[0], parse_dates=[0])\n",
    "\n",
    "display(df_taxi.head())"
   ]
  },
  {
   "cell_type": "code",
   "execution_count": 2,
   "metadata": {},
   "outputs": [
    {
     "name": "stdout",
     "output_type": "stream",
     "text": [
      "Размер датасета: (4416, 1)\n"
     ]
    },
    {
     "data": {
      "text/html": [
       "<div>\n",
       "<style scoped>\n",
       "    .dataframe tbody tr th:only-of-type {\n",
       "        vertical-align: middle;\n",
       "    }\n",
       "\n",
       "    .dataframe tbody tr th {\n",
       "        vertical-align: top;\n",
       "    }\n",
       "\n",
       "    .dataframe thead th {\n",
       "        text-align: right;\n",
       "    }\n",
       "</style>\n",
       "<table border=\"1\" class=\"dataframe\">\n",
       "  <thead>\n",
       "    <tr style=\"text-align: right;\">\n",
       "      <th></th>\n",
       "      <th>num_orders</th>\n",
       "    </tr>\n",
       "    <tr>\n",
       "      <th>datetime</th>\n",
       "      <th></th>\n",
       "    </tr>\n",
       "  </thead>\n",
       "  <tbody>\n",
       "    <tr>\n",
       "      <th>2018-03-01 00:00:00</th>\n",
       "      <td>124</td>\n",
       "    </tr>\n",
       "    <tr>\n",
       "      <th>2018-03-01 01:00:00</th>\n",
       "      <td>85</td>\n",
       "    </tr>\n",
       "    <tr>\n",
       "      <th>2018-03-01 02:00:00</th>\n",
       "      <td>71</td>\n",
       "    </tr>\n",
       "    <tr>\n",
       "      <th>2018-03-01 03:00:00</th>\n",
       "      <td>66</td>\n",
       "    </tr>\n",
       "    <tr>\n",
       "      <th>2018-03-01 04:00:00</th>\n",
       "      <td>43</td>\n",
       "    </tr>\n",
       "  </tbody>\n",
       "</table>\n",
       "</div>"
      ],
      "text/plain": [
       "                     num_orders\n",
       "datetime                       \n",
       "2018-03-01 00:00:00         124\n",
       "2018-03-01 01:00:00          85\n",
       "2018-03-01 02:00:00          71\n",
       "2018-03-01 03:00:00          66\n",
       "2018-03-01 04:00:00          43"
      ]
     },
     "metadata": {},
     "output_type": "display_data"
    }
   ],
   "source": [
    "# Смена типа столбца 'datetime', указание его в качестве индекса и ресемплирование по часу\n",
    "df_taxi = df_taxi.resample('1H').sum()\n",
    "\n",
    "print('Размер датасета:', df_taxi.shape)\n",
    "display(df_taxi.head())"
   ]
  },
  {
   "cell_type": "markdown",
   "metadata": {},
   "source": [
    "### 1. 2. Предобработка данных\n",
    "[Введение](#introduction)"
   ]
  },
  {
   "cell_type": "code",
   "execution_count": 3,
   "metadata": {},
   "outputs": [
    {
     "name": "stdout",
     "output_type": "stream",
     "text": [
      "Количество пропущенных значений:\n"
     ]
    },
    {
     "data": {
      "text/plain": [
       "num_orders    0\n",
       "dtype: int64"
      ]
     },
     "execution_count": 3,
     "metadata": {},
     "output_type": "execute_result"
    }
   ],
   "source": [
    "print('Количество пропущенных значений:')\n",
    "df_taxi.isna().sum()"
   ]
  },
  {
   "cell_type": "markdown",
   "metadata": {},
   "source": [
    "### 1. 3. Feature Engineering\n",
    "[Введение](#introduction)"
   ]
  },
  {
   "cell_type": "code",
   "execution_count": 4,
   "metadata": {},
   "outputs": [
    {
     "data": {
      "text/html": [
       "<div>\n",
       "<style scoped>\n",
       "    .dataframe tbody tr th:only-of-type {\n",
       "        vertical-align: middle;\n",
       "    }\n",
       "\n",
       "    .dataframe tbody tr th {\n",
       "        vertical-align: top;\n",
       "    }\n",
       "\n",
       "    .dataframe thead th {\n",
       "        text-align: right;\n",
       "    }\n",
       "</style>\n",
       "<table border=\"1\" class=\"dataframe\">\n",
       "  <thead>\n",
       "    <tr style=\"text-align: right;\">\n",
       "      <th></th>\n",
       "      <th>num_orders</th>\n",
       "      <th>month</th>\n",
       "      <th>day</th>\n",
       "      <th>dayofweek</th>\n",
       "      <th>lag_1</th>\n",
       "      <th>lag_2</th>\n",
       "      <th>lag_3</th>\n",
       "      <th>lag_4</th>\n",
       "      <th>lag_5</th>\n",
       "      <th>lag_6</th>\n",
       "      <th>...</th>\n",
       "      <th>lag_15</th>\n",
       "      <th>lag_16</th>\n",
       "      <th>lag_17</th>\n",
       "      <th>lag_18</th>\n",
       "      <th>lag_19</th>\n",
       "      <th>lag_20</th>\n",
       "      <th>lag_21</th>\n",
       "      <th>lag_22</th>\n",
       "      <th>lag_23</th>\n",
       "      <th>rolling_mean_24</th>\n",
       "    </tr>\n",
       "    <tr>\n",
       "      <th>datetime</th>\n",
       "      <th></th>\n",
       "      <th></th>\n",
       "      <th></th>\n",
       "      <th></th>\n",
       "      <th></th>\n",
       "      <th></th>\n",
       "      <th></th>\n",
       "      <th></th>\n",
       "      <th></th>\n",
       "      <th></th>\n",
       "      <th></th>\n",
       "      <th></th>\n",
       "      <th></th>\n",
       "      <th></th>\n",
       "      <th></th>\n",
       "      <th></th>\n",
       "      <th></th>\n",
       "      <th></th>\n",
       "      <th></th>\n",
       "      <th></th>\n",
       "      <th></th>\n",
       "    </tr>\n",
       "  </thead>\n",
       "  <tbody>\n",
       "    <tr>\n",
       "      <th>2018-03-01 00:00:00</th>\n",
       "      <td>124</td>\n",
       "      <td>3</td>\n",
       "      <td>1</td>\n",
       "      <td>3</td>\n",
       "      <td>NaN</td>\n",
       "      <td>NaN</td>\n",
       "      <td>NaN</td>\n",
       "      <td>NaN</td>\n",
       "      <td>NaN</td>\n",
       "      <td>NaN</td>\n",
       "      <td>...</td>\n",
       "      <td>NaN</td>\n",
       "      <td>NaN</td>\n",
       "      <td>NaN</td>\n",
       "      <td>NaN</td>\n",
       "      <td>NaN</td>\n",
       "      <td>NaN</td>\n",
       "      <td>NaN</td>\n",
       "      <td>NaN</td>\n",
       "      <td>NaN</td>\n",
       "      <td>NaN</td>\n",
       "    </tr>\n",
       "    <tr>\n",
       "      <th>2018-03-01 01:00:00</th>\n",
       "      <td>85</td>\n",
       "      <td>3</td>\n",
       "      <td>1</td>\n",
       "      <td>3</td>\n",
       "      <td>124.0</td>\n",
       "      <td>NaN</td>\n",
       "      <td>NaN</td>\n",
       "      <td>NaN</td>\n",
       "      <td>NaN</td>\n",
       "      <td>NaN</td>\n",
       "      <td>...</td>\n",
       "      <td>NaN</td>\n",
       "      <td>NaN</td>\n",
       "      <td>NaN</td>\n",
       "      <td>NaN</td>\n",
       "      <td>NaN</td>\n",
       "      <td>NaN</td>\n",
       "      <td>NaN</td>\n",
       "      <td>NaN</td>\n",
       "      <td>NaN</td>\n",
       "      <td>NaN</td>\n",
       "    </tr>\n",
       "    <tr>\n",
       "      <th>2018-03-01 02:00:00</th>\n",
       "      <td>71</td>\n",
       "      <td>3</td>\n",
       "      <td>1</td>\n",
       "      <td>3</td>\n",
       "      <td>85.0</td>\n",
       "      <td>124.0</td>\n",
       "      <td>NaN</td>\n",
       "      <td>NaN</td>\n",
       "      <td>NaN</td>\n",
       "      <td>NaN</td>\n",
       "      <td>...</td>\n",
       "      <td>NaN</td>\n",
       "      <td>NaN</td>\n",
       "      <td>NaN</td>\n",
       "      <td>NaN</td>\n",
       "      <td>NaN</td>\n",
       "      <td>NaN</td>\n",
       "      <td>NaN</td>\n",
       "      <td>NaN</td>\n",
       "      <td>NaN</td>\n",
       "      <td>NaN</td>\n",
       "    </tr>\n",
       "    <tr>\n",
       "      <th>2018-03-01 03:00:00</th>\n",
       "      <td>66</td>\n",
       "      <td>3</td>\n",
       "      <td>1</td>\n",
       "      <td>3</td>\n",
       "      <td>71.0</td>\n",
       "      <td>85.0</td>\n",
       "      <td>124.0</td>\n",
       "      <td>NaN</td>\n",
       "      <td>NaN</td>\n",
       "      <td>NaN</td>\n",
       "      <td>...</td>\n",
       "      <td>NaN</td>\n",
       "      <td>NaN</td>\n",
       "      <td>NaN</td>\n",
       "      <td>NaN</td>\n",
       "      <td>NaN</td>\n",
       "      <td>NaN</td>\n",
       "      <td>NaN</td>\n",
       "      <td>NaN</td>\n",
       "      <td>NaN</td>\n",
       "      <td>NaN</td>\n",
       "    </tr>\n",
       "    <tr>\n",
       "      <th>2018-03-01 04:00:00</th>\n",
       "      <td>43</td>\n",
       "      <td>3</td>\n",
       "      <td>1</td>\n",
       "      <td>3</td>\n",
       "      <td>66.0</td>\n",
       "      <td>71.0</td>\n",
       "      <td>85.0</td>\n",
       "      <td>124.0</td>\n",
       "      <td>NaN</td>\n",
       "      <td>NaN</td>\n",
       "      <td>...</td>\n",
       "      <td>NaN</td>\n",
       "      <td>NaN</td>\n",
       "      <td>NaN</td>\n",
       "      <td>NaN</td>\n",
       "      <td>NaN</td>\n",
       "      <td>NaN</td>\n",
       "      <td>NaN</td>\n",
       "      <td>NaN</td>\n",
       "      <td>NaN</td>\n",
       "      <td>NaN</td>\n",
       "    </tr>\n",
       "  </tbody>\n",
       "</table>\n",
       "<p>5 rows × 28 columns</p>\n",
       "</div>"
      ],
      "text/plain": [
       "                     num_orders  month  day  dayofweek  lag_1  lag_2  lag_3  \\\n",
       "datetime                                                                      \n",
       "2018-03-01 00:00:00         124      3    1          3    NaN    NaN    NaN   \n",
       "2018-03-01 01:00:00          85      3    1          3  124.0    NaN    NaN   \n",
       "2018-03-01 02:00:00          71      3    1          3   85.0  124.0    NaN   \n",
       "2018-03-01 03:00:00          66      3    1          3   71.0   85.0  124.0   \n",
       "2018-03-01 04:00:00          43      3    1          3   66.0   71.0   85.0   \n",
       "\n",
       "                     lag_4  lag_5  lag_6  ...  lag_15  lag_16  lag_17  lag_18  \\\n",
       "datetime                                  ...                                   \n",
       "2018-03-01 00:00:00    NaN    NaN    NaN  ...     NaN     NaN     NaN     NaN   \n",
       "2018-03-01 01:00:00    NaN    NaN    NaN  ...     NaN     NaN     NaN     NaN   \n",
       "2018-03-01 02:00:00    NaN    NaN    NaN  ...     NaN     NaN     NaN     NaN   \n",
       "2018-03-01 03:00:00    NaN    NaN    NaN  ...     NaN     NaN     NaN     NaN   \n",
       "2018-03-01 04:00:00  124.0    NaN    NaN  ...     NaN     NaN     NaN     NaN   \n",
       "\n",
       "                     lag_19  lag_20  lag_21  lag_22  lag_23  rolling_mean_24  \n",
       "datetime                                                                      \n",
       "2018-03-01 00:00:00     NaN     NaN     NaN     NaN     NaN              NaN  \n",
       "2018-03-01 01:00:00     NaN     NaN     NaN     NaN     NaN              NaN  \n",
       "2018-03-01 02:00:00     NaN     NaN     NaN     NaN     NaN              NaN  \n",
       "2018-03-01 03:00:00     NaN     NaN     NaN     NaN     NaN              NaN  \n",
       "2018-03-01 04:00:00     NaN     NaN     NaN     NaN     NaN              NaN  \n",
       "\n",
       "[5 rows x 28 columns]"
      ]
     },
     "metadata": {},
     "output_type": "display_data"
    }
   ],
   "source": [
    "# Функция для создания дополнительных признаков\n",
    "def add_features(data_frame, lag_num, rolling_num):\n",
    "    # Календарные признаки\n",
    "    df = data_frame.copy()\n",
    "    df['month'] = df.index.month\n",
    "    df['day'] = df.index.day\n",
    "    df['dayofweek'] = df.index.dayofweek\n",
    "\n",
    "    # Отстающие значения\n",
    "    for lag in range(1, lag_num):\n",
    "        df['lag_{}'.format(lag)] = df['num_orders'].shift(lag)\n",
    "\n",
    "    # Скользящее среднее по определенному количеству значений \n",
    "    df[f'rolling_mean_{rolling_num}'] = df['num_orders'].shift().rolling(rolling_num).mean()\n",
    "    \n",
    "    return df\n",
    "\n",
    "# Создание дополнительных признаков для существующего датафрейма\n",
    "df_taxi = add_features(df_taxi, lag_num=24, rolling_num=24)\n",
    "display(df_taxi.head())"
   ]
  },
  {
   "cell_type": "markdown",
   "metadata": {},
   "source": [
    "## 2. Анализ данных\n",
    "[Введение](#introduction)\n",
    "\n",
    "Посмотрим на графики функции"
   ]
  },
  {
   "cell_type": "code",
   "execution_count": 5,
   "metadata": {},
   "outputs": [],
   "source": [
    "COLORS = ['green', 'blue', 'orange', 'c', 'm', 'purple']\n",
    "TITLE_FONT = 16\n",
    "LABEL_FONT = 14\n",
    "TICKS_FONT = 12"
   ]
  },
  {
   "cell_type": "code",
   "execution_count": 6,
   "metadata": {},
   "outputs": [],
   "source": [
    "# Функция для создания графика функции\n",
    "def create_plot(df, col, col_label):\n",
    "    plt.figure(figsize=(15, 10))\n",
    "\n",
    "    plt.plot(\n",
    "        df.index,\n",
    "        df[col],\n",
    "        color=random.choice(COLORS)\n",
    "    )\n",
    "\n",
    "    plt.title('График первоначальной функции', fontsize=TITLE_FONT)\n",
    "    plt.xlabel('Дата', fontsize=LABEL_FONT)\n",
    "    plt.xticks(fontsize=TICKS_FONT)\n",
    "    plt.ylabel(col_label, fontsize=LABEL_FONT)\n",
    "    plt.yticks(fontsize=TICKS_FONT)\n",
    "    plt.grid(True)\n",
    "    plt.show()"
   ]
  },
  {
   "cell_type": "code",
   "execution_count": 7,
   "metadata": {},
   "outputs": [
    {
     "data": {
      "image/png": "[encoded data removed]",
      "text/plain": [
       "<Figure size 1080x720 with 1 Axes>"
      ]
     },
     "metadata": {
      "needs_background": "light"
     },
     "output_type": "display_data"
    }
   ],
   "source": [
    "# Первоначальный график функции\n",
    "create_plot(df_taxi, col='num_orders', col_label=\"Количество заказов\")"
   ]
  },
  {
   "cell_type": "markdown",
   "metadata": {},
   "source": [
    "Волатильность колебаний довольно высока - значения могут варьироваться от почти 0 до около 450 в час. Однако наблюдается повышательный тренд и постепенное увеличение количества заказов с марта до сентября 2018 года."
   ]
  },
  {
   "cell_type": "code",
   "execution_count": 8,
   "metadata": {
    "scrolled": false
   },
   "outputs": [
    {
     "data": {
      "image/png": "[encoded data removed]",
      "text/plain": [
       "<Figure size 1080x720 with 1 Axes>"
      ]
     },
     "metadata": {
      "needs_background": "light"
     },
     "output_type": "display_data"
    }
   ],
   "source": [
    "pd.options.mode.chained_assignment = None\n",
    "\n",
    "# График со скользящим средним за сутки\n",
    "create_plot(df_taxi, col='rolling_mean_24', col_label='Скользящее среднее за сутки')"
   ]
  },
  {
   "cell_type": "markdown",
   "metadata": {},
   "source": [
    "На втором графике отчетливо наблюдается повышательная тенденция, демонстрирующая увеличение объема заказов за одни сутки. Данный показатель увеличился с около 50 в марте 2018-го года до более 160 к сентябрю 2018-го года."
   ]
  },
  {
   "cell_type": "code",
   "execution_count": 9,
   "metadata": {
    "scrolled": false
   },
   "outputs": [
    {
     "data": {
      "image/png": "[encoded data removed]",
      "text/plain": [
       "<Figure size 1080x720 with 1 Axes>"
      ]
     },
     "metadata": {
      "needs_background": "light"
     },
     "output_type": "display_data"
    }
   ],
   "source": [
    "# Рассмотрим количество заказов за март\n",
    "df_taxi_march = df_taxi['2018.03.01':'2018.03.31']\n",
    "\n",
    "create_plot(df_taxi_march, 'num_orders', \"Количество заказов\")"
   ]
  },
  {
   "cell_type": "markdown",
   "metadata": {},
   "source": [
    "Можно заметить, что в рассмотренный период временной ряд довольно стационарен. Наблюдаются также довольно большие колебания значений: от едва более 0 до более чем 175."
   ]
  },
  {
   "cell_type": "markdown",
   "metadata": {},
   "source": [
    "Посмотрим далее на тренд и сезонность по имеющемуся набору данных.\n",
    "\n",
    "Для определения сезонности рассмотрим недельный интервал (с 1 по 8 марта)."
   ]
  },
  {
   "cell_type": "code",
   "execution_count": 11,
   "metadata": {
    "scrolled": false
   },
   "outputs": [
    {
     "data": {
      "image/png": "[encoded data removed]",
      "text/plain": [
       "<Figure size 1080x1440 with 2 Axes>"
      ]
     },
     "metadata": {
      "needs_background": "light"
     },
     "output_type": "display_data"
    }
   ],
   "source": [
    "# Рассмотрим тренд на всем графике\n",
    "decomposed = seasonal_decompose(df_taxi['num_orders'])\n",
    "\n",
    "plt.figure(figsize=(15, 20))\n",
    "\n",
    "plt.subplot(311)\n",
    "decomposed.trend.plot(title='Тренд', ax=plt.gca())\n",
    "plt.grid(True)\n",
    "\n",
    "# Рассмотрим сезонность на недельном интервале\n",
    "week_df = df_taxi['2018.03.01':'2018.03.08']\n",
    "\n",
    "decomposed_week = seasonal_decompose(week_df['num_orders'])\n",
    "\n",
    "plt.subplot(312)\n",
    "decomposed_week.seasonal.plot(title='Сезонность', ax=plt.gca())\n",
    "plt.grid()\n",
    "\n",
    "plt.show()"
   ]
  },
  {
   "cell_type": "markdown",
   "metadata": {},
   "source": [
    "**Выводы**:\n",
    "\n",
    "Можно заметить, что наблюдается повышательный тренд на протяжении всего рассматриваемого периода (с марта по сентябрь 2018 года). Более того значение количества заказов увеличилось с около 50 в марте до примерно 170 к сентябрю 2018-го года - темп роста более, чем в три раза!\n",
    "\n",
    "Для определения сезонности взят интервал в одну неделю. Можно заметить, что в зависимости от часа сильно зависит и общее количество заказов. Тем не менее, важно отметить, что цикличность (а в случае временных рядов это сезонность) в данном случае составляет одни сутки."
   ]
  },
  {
   "cell_type": "markdown",
   "metadata": {},
   "source": [
    "Посмотрим, имеются ли полные дубликаты в датасете, от которых можно избавиться."
   ]
  },
  {
   "cell_type": "code",
   "execution_count": 12,
   "metadata": {},
   "outputs": [
    {
     "data": {
      "text/plain": [
       "0"
      ]
     },
     "execution_count": 12,
     "metadata": {},
     "output_type": "execute_result"
    }
   ],
   "source": [
    "df_taxi.duplicated().sum()"
   ]
  },
  {
   "cell_type": "code",
   "execution_count": 13,
   "metadata": {},
   "outputs": [
    {
     "name": "stdout",
     "output_type": "stream",
     "text": [
      "<class 'pandas.core.frame.DataFrame'>\n",
      "DatetimeIndex: 4416 entries, 2018-03-01 00:00:00 to 2018-08-31 23:00:00\n",
      "Freq: H\n",
      "Data columns (total 28 columns):\n",
      " #   Column           Non-Null Count  Dtype  \n",
      "---  ------           --------------  -----  \n",
      " 0   num_orders       4416 non-null   int64  \n",
      " 1   month            4416 non-null   int64  \n",
      " 2   day              4416 non-null   int64  \n",
      " 3   dayofweek        4416 non-null   int64  \n",
      " 4   lag_1            4415 non-null   float64\n",
      " 5   lag_2            4414 non-null   float64\n",
      " 6   lag_3            4413 non-null   float64\n",
      " 7   lag_4            4412 non-null   float64\n",
      " 8   lag_5            4411 non-null   float64\n",
      " 9   lag_6            4410 non-null   float64\n",
      " 10  lag_7            4409 non-null   float64\n",
      " 11  lag_8            4408 non-null   float64\n",
      " 12  lag_9            4407 non-null   float64\n",
      " 13  lag_10           4406 non-null   float64\n",
      " 14  lag_11           4405 non-null   float64\n",
      " 15  lag_12           4404 non-null   float64\n",
      " 16  lag_13           4403 non-null   float64\n",
      " 17  lag_14           4402 non-null   float64\n",
      " 18  lag_15           4401 non-null   float64\n",
      " 19  lag_16           4400 non-null   float64\n",
      " 20  lag_17           4399 non-null   float64\n",
      " 21  lag_18           4398 non-null   float64\n",
      " 22  lag_19           4397 non-null   float64\n",
      " 23  lag_20           4396 non-null   float64\n",
      " 24  lag_21           4395 non-null   float64\n",
      " 25  lag_22           4394 non-null   float64\n",
      " 26  lag_23           4393 non-null   float64\n",
      " 27  rolling_mean_24  4392 non-null   float64\n",
      "dtypes: float64(24), int64(4)\n",
      "memory usage: 1.1 MB\n"
     ]
    }
   ],
   "source": [
    "# Общая информация по получившемуся датафрейму\n",
    "df_taxi.info()"
   ]
  },
  {
   "cell_type": "markdown",
   "metadata": {},
   "source": [
    "## 3. Обучение\n",
    "[Введение](#introduction)\n",
    "\n",
    "Разобьем данные на тренировочную и тестовую выборки. Далее избавимся от пропущенных значений и начнем осуществлять обучение моделей машинного обучения."
   ]
  },
  {
   "cell_type": "markdown",
   "metadata": {},
   "source": [
    "### 3. 1. Подготовка данных к обучению\n",
    "[Введение](#introduction)\n",
    "\n",
    "В подготоку данных к обучению включается:\n",
    "- Разделение выборок на тренировочную и тестовую;\n",
    "- Масштабирование количественных признаком (в даннмо случае - всех)."
   ]
  },
  {
   "cell_type": "code",
   "execution_count": 14,
   "metadata": {},
   "outputs": [],
   "source": [
    "# Разделение данных на тренировочную и тестовую выборки\n",
    "train, test = train_test_split(\n",
    "    df_taxi,\n",
    "    shuffle=False,\n",
    "    test_size=0.1\n",
    ")\n",
    "\n",
    "# Удаление пропущенных значений\n",
    "train = train.dropna()\n",
    "\n",
    "# Тренировочная выборка\n",
    "X_train = train.drop('num_orders', axis=1)\n",
    "y_train = train['num_orders']\n",
    "\n",
    "# Тестовая выборка\n",
    "X_test = test.drop('num_orders', axis=1)\n",
    "y_test = test['num_orders']\n",
    "\n",
    "# Масштабирование\n",
    "scaler = StandardScaler()\n",
    "scaler.fit(X_train)\n",
    "\n",
    "X_train = scaler.transform(X_train)\n",
    "X_test = scaler.transform(X_test)"
   ]
  },
  {
   "cell_type": "markdown",
   "metadata": {},
   "source": [
    "### 3. 2. ML-модели\n",
    "[Введение](#introduction)\n",
    "\n",
    "Создание моделей машинного обучения для решения поставленной задачи - прогнозирования значения количества заказов - num_orders.\n",
    "\n",
    "<br>**ML-модели**:\n",
    "1. [Дерево решений](#3.-2.-1.-Дерево-решений);\n",
    "2. [Случайный лес](#3.-2.-2.-Случайный-лес);\n",
    "3. [Линейная регрессия](#3.-2.-3.-Линейная-регрессия);\n",
    "4. [Ridge-регрессия](#3.-2.-4.-Ridge-регрессия);\n",
    "5. [Lasso-регрессия](#3.-2.-5.-Lasso-регрессия);\n",
    "6. [Нейронная сеть](#3.-2.-6.-Нейронная-сеть)."
   ]
  },
  {
   "cell_type": "code",
   "execution_count": 15,
   "metadata": {},
   "outputs": [],
   "source": [
    "# Получение RMSE у лучшей модели\n",
    "def get_best_parameters(model):\n",
    "    ts = TimeSeriesSplit()\n",
    "    \n",
    "    # Перебор гиперпараметров\n",
    "    grid = GridSearchCV(model, param_grid, cv=ts, scoring='neg_root_mean_squared_error')\n",
    "    grid.fit(X_train, y_train)\n",
    "\n",
    "    print(grid.best_estimator_)\n",
    "\n",
    "    # Поскольку GridSearchCV работает на максимизацию метрики, то использовается инвентированное значение RMSE\n",
    "    print('RMSE:', round(grid.best_score_ * -1, 3))"
   ]
  },
  {
   "cell_type": "markdown",
   "metadata": {},
   "source": [
    "#### 3. 2. 1. Дерево решений\n",
    "[Введение](#introduction)\n",
    "\n",
    "<br>Гиперпараметры для перебора:\n",
    "- max_depth:\n",
    "    - от 10 до 21. Шаг - 2.\n",
    "- max_features:\n",
    "    - None | log2 | sqrt."
   ]
  },
  {
   "cell_type": "code",
   "execution_count": 16,
   "metadata": {},
   "outputs": [
    {
     "name": "stdout",
     "output_type": "stream",
     "text": [
      "DecisionTreeRegressor(max_depth=10, random_state=42)\n",
      "RMSE: 32.493\n"
     ]
    }
   ],
   "source": [
    "tree = DecisionTreeRegressor(random_state=42)\n",
    "\n",
    "# Гиперпараметры для перебора\n",
    "param_grid = {\n",
    "    'max_depth': range(10, 21, 2), \n",
    "    'max_features': [None, 'log2', 'sqrt']\n",
    "}\n",
    "\n",
    "get_best_parameters(tree)"
   ]
  },
  {
   "cell_type": "markdown",
   "metadata": {},
   "source": [
    "*DecisionTreeRegressor(max_depth=10, random_state=42)*\n",
    "\n",
    "    RMSE: 35.4"
   ]
  },
  {
   "cell_type": "markdown",
   "metadata": {},
   "source": [
    "#### 3. 2. 2. Случайный лес\n",
    "[Введение](#introduction)\n",
    "\n",
    "<br>Гиперпараметры для перебора:\n",
    "- max_depth:\n",
    "    - от 10 до 21. Шаг - 2.\n",
    "- n_estimators:\n",
    "    - от 150 до 351. Шаг - 50."
   ]
  },
  {
   "cell_type": "code",
   "execution_count": 17,
   "metadata": {},
   "outputs": [
    {
     "data": {
      "text/plain": [
       "\"\\n%%time\\n\\nforest = RandomForestRegressor(random_state=42)\\n\\n# Гиперпараметры для перебора\\nparam_grid = {\\n    'max_depth': range(10, 21, 2), \\n    'n_estimators': range(150, 351, 50)\\n}\\n\\nget_best_parameters(forest)\\n\""
      ]
     },
     "execution_count": 17,
     "metadata": {},
     "output_type": "execute_result"
    }
   ],
   "source": [
    "'''\n",
    "%%time\n",
    "\n",
    "forest = RandomForestRegressor(random_state=42)\n",
    "\n",
    "# Гиперпараметры для перебора\n",
    "param_grid = {\n",
    "    'max_depth': range(10, 21, 2), \n",
    "    'n_estimators': range(150, 351, 50)\n",
    "}\n",
    "\n",
    "get_best_parameters(forest)\n",
    "'''"
   ]
  },
  {
   "cell_type": "markdown",
   "metadata": {},
   "source": [
    "*RandomForestRegressor(max_depth=12, n_estimators=350, random_state=42)*\n",
    "\n",
    "RMSE: 28.563\n",
    "\n",
    "CPU times: user 12min 25s, sys: 2.68 s, total: 12min 28s\n",
    "Wall time: 12min 30s"
   ]
  },
  {
   "cell_type": "markdown",
   "metadata": {},
   "source": [
    "#### 3. 2. 3. Линейная регрессия\n",
    "[Введение](#introduction)"
   ]
  },
  {
   "cell_type": "code",
   "execution_count": 18,
   "metadata": {
    "scrolled": true
   },
   "outputs": [
    {
     "name": "stdout",
     "output_type": "stream",
     "text": [
      "LinearRegression()\n",
      "\tRMSE: 25.819\n"
     ]
    }
   ],
   "source": [
    "linear = LinearRegression()\n",
    "\n",
    "linear.fit(X_train, y_train)\n",
    "linear_pred_train = linear.predict(X_train)\n",
    "\n",
    "linear_train_rmse = np.sqrt(mean_squared_error(y_train, linear_pred_train))\n",
    "print(linear)\n",
    "print('\\tRMSE:', round(linear_train_rmse, 3))"
   ]
  },
  {
   "cell_type": "markdown",
   "metadata": {},
   "source": [
    "#### 3. 2. 4. Ridge-регрессия\n",
    "[Введение](#introduction)\n",
    "\n",
    "<br>Гиперпараметры для перебора:\n",
    "- alpha:\n",
    "    - 0.01 | 0.1 | 1 | 10 | 20"
   ]
  },
  {
   "cell_type": "code",
   "execution_count": 19,
   "metadata": {},
   "outputs": [
    {
     "name": "stdout",
     "output_type": "stream",
     "text": [
      "Ridge(alpha=0.1, random_state=42)\n",
      "RMSE: 27.057\n"
     ]
    }
   ],
   "source": [
    "ridge = Ridge(random_state=42)\n",
    "\n",
    "param_grid = {\n",
    "    'alpha': [0.1, 1, 10, 20, 30, 40]\n",
    "}\n",
    "\n",
    "get_best_parameters(ridge)"
   ]
  },
  {
   "cell_type": "markdown",
   "metadata": {},
   "source": [
    "#### 3. 2. 5. Lasso-регрессия\n",
    "[Введение](#introduction)"
   ]
  },
  {
   "cell_type": "code",
   "execution_count": 20,
   "metadata": {
    "scrolled": true
   },
   "outputs": [
    {
     "name": "stdout",
     "output_type": "stream",
     "text": [
      "Lasso(alpha=0.1, random_state=42)\n",
      "RMSE: 27.965\n"
     ]
    }
   ],
   "source": [
    "lasso = Lasso(random_state=42)\n",
    "\n",
    "param_grid = {\n",
    "    'alpha': [0.1, 1, 10, 20, 30, 40]\n",
    "}\n",
    "\n",
    "get_best_parameters(lasso)"
   ]
  },
  {
   "cell_type": "markdown",
   "metadata": {},
   "source": [
    "#### 3. 2. 6. Нейронная сеть\n",
    "[Введение](#introduction)\n",
    "\n",
    "<br>Архитектура нейронной сети:\n",
    "- 4 слоя - 2 скрытых:\n",
    "    - Входной слой: количество нейронов - число независимых параметров по обучающей выборке;\n",
    "    - Скрытый слой №1: 10 нейронов;\n",
    "    - Скрытый слой №2: 5 нейронов;\n",
    "    - Выходной слой: 1 нейрон.\n",
    "- Функции активации - LeakyReLU (поскольку задача регрессии);\n",
    "- Количество эпох - 51;\n",
    "- Тестирование модели - каждые 10 эпохи;\n",
    "- Остановка модели, если значение RMSE меньше 48 (необходимо по заданию);\n",
    "- Инициализация весов по непрерывному равномерному распределению Кайминга;\n",
    "- Осуществление тренировки с помощью батчей;\n",
    "- Размер батча - 128;\n",
    "- Осуществление номрализации батчей с помощью BatchNorm1d;\n",
    "- Оптимизатор - Adam. Скорость обучения - 5e-3;\n",
    "- Функция потерь и метрика - RMSE.\n",
    "\n",
    "Работа с нейронной сетью:\n",
    "- Подготовка к работе нейронной сети - установление Random Seed, конвертация тренировочной и тестовой выборок в Tensor;\n",
    "- Создание нейройнной сети в соответствии с определенной ранее архитектурой;\n",
    "- Инициализация весов нейронной сети;\n",
    "- Тренировка нейройнной сети с использованием батчей."
   ]
  },
  {
   "cell_type": "code",
   "execution_count": 21,
   "metadata": {},
   "outputs": [],
   "source": [
    "# Установка random seed\n",
    "torch.manual_seed(42)\n",
    "np.random.seed(42)\n",
    "\n",
    "X_train_torch = torch.FloatTensor(X_train)\n",
    "X_test_torch = torch.FloatTensor(X_test)\n",
    "y_train_torch = torch.FloatTensor(y_train.values)\n",
    "y_test_torch = torch.FloatTensor(y_test.values)\n",
    "\n",
    "# Число нейронов в каждом слое\n",
    "in_neurons = X_train.shape[1]\n",
    "hidden_neurons_1 = 10\n",
    "hidden_neurons_2 = 5\n",
    "out_neurons = 1\n",
    "\n",
    "# Нейронная сеть\n",
    "net = nn.Sequential(\n",
    "    nn.Linear(in_neurons, hidden_neurons_1),\n",
    "    nn.BatchNorm1d(hidden_neurons_1),\n",
    "    nn.LeakyReLU(),\n",
    "    nn.Linear(hidden_neurons_1, hidden_neurons_2),\n",
    "    nn.BatchNorm1d(hidden_neurons_2),\n",
    "    nn.LeakyReLU(),\n",
    "    nn.Linear(hidden_neurons_2, out_neurons),\n",
    "    nn.LeakyReLU()\n",
    ")\n",
    "\n",
    "# Оптимизатор и функция потерь\n",
    "optimizer = torch.optim.Adam(net.parameters(), lr=5e-3)\n",
    "loss = nn.MSELoss()"
   ]
  },
  {
   "cell_type": "code",
   "execution_count": 22,
   "metadata": {
    "scrolled": true
   },
   "outputs": [
    {
     "data": {
      "text/plain": [
       "Sequential(\n",
       "  (0): Linear(in_features=27, out_features=10, bias=True)\n",
       "  (1): BatchNorm1d(10, eps=1e-05, momentum=0.1, affine=True, track_running_stats=True)\n",
       "  (2): LeakyReLU(negative_slope=0.01)\n",
       "  (3): Linear(in_features=10, out_features=5, bias=True)\n",
       "  (4): BatchNorm1d(5, eps=1e-05, momentum=0.1, affine=True, track_running_stats=True)\n",
       "  (5): LeakyReLU(negative_slope=0.01)\n",
       "  (6): Linear(in_features=5, out_features=1, bias=True)\n",
       "  (7): LeakyReLU(negative_slope=0.01)\n",
       ")"
      ]
     },
     "execution_count": 22,
     "metadata": {},
     "output_type": "execute_result"
    }
   ],
   "source": [
    "# Функция для инициализации весов нейросети\n",
    "def init_weights(layer):\n",
    "    if type(layer) == nn.Linear:\n",
    "        nn.init.kaiming_uniform_(\n",
    "            layer.weight,\n",
    "            mode='fan_in',\n",
    "            nonlinearity='leaky_relu'\n",
    "        )\n",
    "\n",
    "# Инициализация весов нейросети\n",
    "net.apply(init_weights)"
   ]
  },
  {
   "cell_type": "code",
   "execution_count": 23,
   "metadata": {},
   "outputs": [
    {
     "name": "stdout",
     "output_type": "stream",
     "text": [
      "RMSE на тренировочной выборке из 128 случайных объектов: 27.347 \n",
      "\n",
      "CPU times: user 9.05 s, sys: 0 ns, total: 9.05 s\n",
      "Wall time: 9.08 s\n"
     ]
    }
   ],
   "source": [
    "%%time\n",
    "\n",
    "# Количество эпох, размер одного батча и их количество\n",
    "num_epochs = 51\n",
    "batch_size = 128\n",
    "num_batches = ceil(len(X_train_torch) / batch_size)\n",
    "\n",
    "# Обучение нейросети\n",
    "for epoch in range(num_epochs):\n",
    "    order = np.random.permutation(len(X_train_torch))\n",
    "    for batch_idx in range(num_batches):\n",
    "        start_idx = batch_idx * batch_size\n",
    "\n",
    "        optimizer.zero_grad()\n",
    "\n",
    "        batch_indexes = order[start_idx:start_idx + batch_size]\n",
    "        X_batch = X_train_torch[batch_indexes]\n",
    "        y_batch = y_train_torch[batch_indexes]\n",
    "\n",
    "        # Обучение нейросети\n",
    "        preds = net.forward(X_batch).flatten()\n",
    "\n",
    "        loss_value = torch.sqrt(loss(preds, y_batch))\n",
    "        loss_value.backward()\n",
    "\n",
    "        optimizer.step()\n",
    "\n",
    "\n",
    "print('RMSE на тренировочной выборке из 128 случайных объектов:', round(loss_value.item(), 3), '\\n')"
   ]
  },
  {
   "cell_type": "markdown",
   "metadata": {},
   "source": [
    "## 4. Тестирование\n",
    "[Введение](#introduction)"
   ]
  },
  {
   "cell_type": "markdown",
   "metadata": {},
   "source": [
    "Получается, что наилучшее значение на тренировочной выборке продемонстрировала Нейронная сеть. Осуществим тестировани данной модели на тестовой выборке."
   ]
  },
  {
   "cell_type": "code",
   "execution_count": 24,
   "metadata": {
    "scrolled": false
   },
   "outputs": [
    {
     "name": "stdout",
     "output_type": "stream",
     "text": [
      "Нейронная сеть:\n",
      "Sequential(\n",
      "  (0): Linear(in_features=27, out_features=10, bias=True)\n",
      "  (1): BatchNorm1d(10, eps=1e-05, momentum=0.1, affine=True, track_running_stats=True)\n",
      "  (2): LeakyReLU(negative_slope=0.01)\n",
      "  (3): Linear(in_features=10, out_features=5, bias=True)\n",
      "  (4): BatchNorm1d(5, eps=1e-05, momentum=0.1, affine=True, track_running_stats=True)\n",
      "  (5): LeakyReLU(negative_slope=0.01)\n",
      "  (6): Linear(in_features=5, out_features=1, bias=True)\n",
      "  (7): LeakyReLU(negative_slope=0.01)\n",
      ")\n",
      "\tRMSE = 43.132\n"
     ]
    }
   ],
   "source": [
    "net.eval()\n",
    "net_test_preds = net.forward(X_test_torch).flatten()\n",
    "nn_rmse = round(torch.sqrt(loss(net_test_preds, y_test_torch)).item(), 3)\n",
    "\n",
    "print('Нейронная сеть:')\n",
    "print(net)\n",
    "print('\\tRMSE =', nn_rmse)"
   ]
  },
  {
   "cell_type": "markdown",
   "metadata": {},
   "source": [
    "## 5. Выводы\n",
    "[Введение](#introduction)\n",
    "\n",
    "Согласно проведенному тестированию наилучшей моделью по метрике RMSE стала Нейронная сеть с параметрами по [ссылке](#3.-2.-6.-Нейронная-сеть). Значение RMSE составило 43.132, что удовлетворяет необходимому условию задачи: RMSE должно быть не более 48.\n",
    "\n",
    "Далее выведем график \"Факт-Прогноз\" по данному модели для первых 24 объектов (первых суток) тестовой выборки."
   ]
  },
  {
   "cell_type": "code",
   "execution_count": 25,
   "metadata": {},
   "outputs": [
    {
     "data": {
      "image/png": "[encoded data removed]",
      "text/plain": [
       "<Figure size 1008x576 with 1 Axes>"
      ]
     },
     "metadata": {
      "needs_background": "light"
     },
     "output_type": "display_data"
    }
   ],
   "source": [
    "# Создание графика \"Факт-Прогноз\" для 24-х первых объектов тестовой выборки\n",
    "plt.figure(figsize=(14, 8))\n",
    "\n",
    "plt.bar(range(0, 24), net_test_preds[0:24].detach().numpy(), color='orange', label='Прогноз')\n",
    "plt.bar(range(0, 24), y_test[0:24], width=0.5, color='blue', label='Факт')\n",
    "\n",
    "plt.title('График \"Факт-Прогноз\" для первых 24 объектов тестовой выборки', fontsize=16)\n",
    "plt.xlabel('Номер объекта тестовой выборки', fontsize=14)\n",
    "plt.xticks(range(0, 24), fontsize=12)\n",
    "plt.ylabel('Количество заказов', fontsize=14)\n",
    "plt.xticks(fontsize=12)\n",
    "plt.grid()\n",
    "plt.legend()\n",
    "plt.show()"
   ]
  },
  {
   "cell_type": "markdown",
   "metadata": {},
   "source": [
    "Стоит отметить, что во многих случаях реальное значение количества заказов за час не сильно отличается от предсказанного моделью нейронной сети, но бывают и исключения.\n",
    "\n",
    "Далее также рассмотрим важность признаков."
   ]
  },
  {
   "cell_type": "code",
   "execution_count": 26,
   "metadata": {},
   "outputs": [
    {
     "data": {
      "image/png": "[encoded data removed]",
      "text/plain": [
       "<Figure size 720x504 with 1 Axes>"
      ]
     },
     "metadata": {
      "needs_background": "light"
     },
     "output_type": "display_data"
    }
   ],
   "source": [
    "# Получение графика важности признаков\n",
    "forest = RandomForestRegressor(max_depth=12, n_estimators=350, random_state=42)\n",
    "forest.fit(X_train, y_train)\n",
    "\n",
    "importances = forest.feature_importances_\n",
    "forest_importances = pd.Series(importances, df_taxi.drop('num_orders', axis=1).columns.values)\n",
    "\n",
    "plt.figure(figsize=(10, 7))\n",
    "\n",
    "forest_importances.plot(kind='bar', grid=True, color='m')\n",
    "\n",
    "plt.title('Важность факторов', fontsize=16)\n",
    "plt.xticks(fontsize=12)\n",
    "plt.xlabel('Факторы', fontsize=14)\n",
    "plt.yticks(fontsize=12)\n",
    "plt.ylabel('Степень значимости', fontsize=14)\n",
    "plt.show()"
   ]
  },
  {
   "cell_type": "markdown",
   "metadata": {},
   "source": [
    "На графике отчетливо видно, что смещение результатов на единицу наибольшим образом влияет на предсказание моделей. Коэффициент степени значимости данного признака превышает 0.3, когда иных параметров степень важности менее 0.15.\n",
    "\n",
    "**Рекомендация**:\n",
    "\n",
    "Для определения количества заказов по часам следует использовать нейронную сеть с [описанной ранее архитектурой](#Нейронная-сеть), так как ее значение RMSE наибольшим образом удовлетворяет поставленной задачи - значение RMSE должно быть менее 48 - и составляет около 43. "
   ]
  },
  {
   "cell_type": "code",
   "execution_count": null,
   "metadata": {},
   "outputs": [],
   "source": []
  }
 ],
 "metadata": {
  "ExecuteTimeLog": [
   {
    "duration": 217,
    "start_time": "2023-07-11T11:20:07.056Z"
   },
   {
    "duration": 578,
    "start_time": "2023-07-11T11:20:22.298Z"
   },
   {
    "duration": 32,
    "start_time": "2023-07-11T11:21:30.841Z"
   },
   {
    "duration": 62,
    "start_time": "2023-07-11T11:21:41.838Z"
   },
   {
    "duration": 8,
    "start_time": "2023-07-11T11:21:42.233Z"
   },
   {
    "duration": 638,
    "start_time": "2023-07-11T13:10:45.761Z"
   },
   {
    "duration": 86,
    "start_time": "2023-07-11T13:11:21.159Z"
   },
   {
    "duration": 70,
    "start_time": "2023-07-11T13:12:00.504Z"
   },
   {
    "duration": 54,
    "start_time": "2023-07-11T13:12:06.194Z"
   },
   {
    "duration": 56,
    "start_time": "2023-07-11T13:12:27.796Z"
   },
   {
    "duration": 67,
    "start_time": "2023-07-11T13:12:49.044Z"
   },
   {
    "duration": 51,
    "start_time": "2023-07-11T13:12:59.809Z"
   },
   {
    "duration": 63,
    "start_time": "2023-07-11T13:13:18.547Z"
   },
   {
    "duration": 70,
    "start_time": "2023-07-11T13:13:35.005Z"
   },
   {
    "duration": 55,
    "start_time": "2023-07-11T13:14:08.986Z"
   },
   {
    "duration": 60,
    "start_time": "2023-07-11T13:14:54.553Z"
   },
   {
    "duration": 69,
    "start_time": "2023-07-11T13:15:00.344Z"
   },
   {
    "duration": 707,
    "start_time": "2023-07-11T13:15:20.603Z"
   },
   {
    "duration": 209,
    "start_time": "2023-07-11T13:17:54.794Z"
   },
   {
    "duration": 55,
    "start_time": "2023-07-11T13:18:09.596Z"
   },
   {
    "duration": 48,
    "start_time": "2023-07-11T13:18:26.483Z"
   },
   {
    "duration": 25,
    "start_time": "2023-07-11T13:18:27.252Z"
   },
   {
    "duration": 336,
    "start_time": "2023-07-11T13:18:37.188Z"
   },
   {
    "duration": 234,
    "start_time": "2023-07-11T13:18:44.962Z"
   },
   {
    "duration": 227,
    "start_time": "2023-07-11T13:18:48.820Z"
   },
   {
    "duration": 244,
    "start_time": "2023-07-11T13:19:04.506Z"
   },
   {
    "duration": 227,
    "start_time": "2023-07-11T13:19:25.340Z"
   },
   {
    "duration": 376,
    "start_time": "2023-07-11T13:19:34.097Z"
   },
   {
    "duration": 292,
    "start_time": "2023-07-11T13:19:53.832Z"
   },
   {
    "duration": 257,
    "start_time": "2023-07-11T13:20:08.899Z"
   },
   {
    "duration": 229,
    "start_time": "2023-07-11T13:20:14.507Z"
   },
   {
    "duration": 189,
    "start_time": "2023-07-11T13:20:19.544Z"
   },
   {
    "duration": 241,
    "start_time": "2023-07-11T13:20:40.243Z"
   },
   {
    "duration": 250,
    "start_time": "2023-07-11T13:21:37.532Z"
   },
   {
    "duration": 277,
    "start_time": "2023-07-11T13:21:48.835Z"
   },
   {
    "duration": 3,
    "start_time": "2023-07-11T13:22:41.496Z"
   },
   {
    "duration": 385,
    "start_time": "2023-07-11T13:22:58.473Z"
   },
   {
    "duration": 8,
    "start_time": "2023-07-11T13:23:38.684Z"
   },
   {
    "duration": 159,
    "start_time": "2023-07-11T13:23:58.778Z"
   },
   {
    "duration": 168,
    "start_time": "2023-07-11T13:24:03.384Z"
   },
   {
    "duration": 164,
    "start_time": "2023-07-11T13:24:06.468Z"
   },
   {
    "duration": 310,
    "start_time": "2023-07-11T13:24:53.032Z"
   },
   {
    "duration": 211,
    "start_time": "2023-07-11T13:25:01.141Z"
   },
   {
    "duration": 6,
    "start_time": "2023-07-11T13:25:45.260Z"
   },
   {
    "duration": 15,
    "start_time": "2023-07-11T13:26:02.332Z"
   },
   {
    "duration": 4,
    "start_time": "2023-07-11T13:26:30.553Z"
   },
   {
    "duration": 276,
    "start_time": "2023-07-11T13:26:30.939Z"
   },
   {
    "duration": 236,
    "start_time": "2023-07-11T13:27:20.496Z"
   },
   {
    "duration": 264,
    "start_time": "2023-07-11T13:28:26.999Z"
   },
   {
    "duration": 316,
    "start_time": "2023-07-11T13:28:43.891Z"
   },
   {
    "duration": 295,
    "start_time": "2023-07-11T13:28:51.057Z"
   },
   {
    "duration": 22,
    "start_time": "2023-07-11T13:30:02.297Z"
   },
   {
    "duration": 4,
    "start_time": "2023-07-11T13:34:59.362Z"
   },
   {
    "duration": 244,
    "start_time": "2023-07-11T13:35:02.915Z"
   },
   {
    "duration": 81,
    "start_time": "2023-07-11T13:35:11.393Z"
   },
   {
    "duration": 224,
    "start_time": "2023-07-11T13:35:14.456Z"
   },
   {
    "duration": 223,
    "start_time": "2023-07-11T13:35:30.238Z"
   },
   {
    "duration": 278,
    "start_time": "2023-07-11T13:35:49.338Z"
   },
   {
    "duration": 44,
    "start_time": "2023-07-11T13:36:39.430Z"
   },
   {
    "duration": 4,
    "start_time": "2023-07-11T13:36:43.304Z"
   },
   {
    "duration": 15,
    "start_time": "2023-07-11T13:36:43.801Z"
   },
   {
    "duration": 4,
    "start_time": "2023-07-11T13:37:01.502Z"
   },
   {
    "duration": 14,
    "start_time": "2023-07-11T13:37:02.466Z"
   },
   {
    "duration": 3,
    "start_time": "2023-07-11T13:37:05.658Z"
   },
   {
    "duration": 5,
    "start_time": "2023-07-11T13:37:05.869Z"
   },
   {
    "duration": 298,
    "start_time": "2023-07-11T13:37:06.298Z"
   },
   {
    "duration": 266,
    "start_time": "2023-07-11T13:37:09.153Z"
   },
   {
    "duration": 11,
    "start_time": "2023-07-11T13:37:10.897Z"
   },
   {
    "duration": 12,
    "start_time": "2023-07-11T13:37:36.515Z"
   },
   {
    "duration": 18,
    "start_time": "2023-07-11T13:38:16.642Z"
   },
   {
    "duration": 21,
    "start_time": "2023-07-11T13:38:27.242Z"
   },
   {
    "duration": 281,
    "start_time": "2023-07-11T13:38:36.296Z"
   },
   {
    "duration": 302,
    "start_time": "2023-07-11T13:39:16.673Z"
   },
   {
    "duration": 259,
    "start_time": "2023-07-11T13:40:35.443Z"
   },
   {
    "duration": 328,
    "start_time": "2023-07-11T13:40:36.731Z"
   },
   {
    "duration": 1694,
    "start_time": "2023-07-11T13:40:43.802Z"
   },
   {
    "duration": 256,
    "start_time": "2023-07-11T13:40:46.205Z"
   },
   {
    "duration": 290,
    "start_time": "2023-07-11T13:40:58.970Z"
   },
   {
    "duration": 238,
    "start_time": "2023-07-11T13:41:16.390Z"
   },
   {
    "duration": 281,
    "start_time": "2023-07-11T13:41:39.883Z"
   },
   {
    "duration": 223,
    "start_time": "2023-07-11T13:49:20.303Z"
   },
   {
    "duration": 247,
    "start_time": "2023-07-11T13:49:40.150Z"
   },
   {
    "duration": 378,
    "start_time": "2023-07-11T13:49:56.407Z"
   },
   {
    "duration": 300,
    "start_time": "2023-07-11T13:50:00.102Z"
   },
   {
    "duration": 317,
    "start_time": "2023-07-11T13:50:23.284Z"
   },
   {
    "duration": 1063,
    "start_time": "2023-07-11T13:52:17.963Z"
   },
   {
    "duration": 1819,
    "start_time": "2023-07-11T13:52:21.715Z"
   },
   {
    "duration": 22,
    "start_time": "2023-07-11T13:52:46.505Z"
   },
   {
    "duration": 162,
    "start_time": "2023-07-11T13:52:59.104Z"
   },
   {
    "duration": 21,
    "start_time": "2023-07-11T13:53:01.195Z"
   },
   {
    "duration": 14,
    "start_time": "2023-07-11T13:53:04.568Z"
   },
   {
    "duration": 12,
    "start_time": "2023-07-11T13:53:07.647Z"
   },
   {
    "duration": 73,
    "start_time": "2023-07-11T13:53:15.493Z"
   },
   {
    "duration": 19,
    "start_time": "2023-07-11T13:53:15.643Z"
   },
   {
    "duration": 6,
    "start_time": "2023-07-11T13:53:15.901Z"
   },
   {
    "duration": 4,
    "start_time": "2023-07-11T13:53:16.032Z"
   },
   {
    "duration": 345,
    "start_time": "2023-07-11T13:53:16.155Z"
   },
   {
    "duration": 289,
    "start_time": "2023-07-11T13:53:16.505Z"
   },
   {
    "duration": 333,
    "start_time": "2023-07-11T13:53:16.796Z"
   },
   {
    "duration": 6,
    "start_time": "2023-07-11T13:53:17.297Z"
   },
   {
    "duration": 9,
    "start_time": "2023-07-11T13:54:42.352Z"
   },
   {
    "duration": 1680,
    "start_time": "2023-07-11T13:58:13.920Z"
   },
   {
    "duration": 24,
    "start_time": "2023-07-11T13:58:15.607Z"
   },
   {
    "duration": 7,
    "start_time": "2023-07-11T13:58:15.633Z"
   },
   {
    "duration": 8,
    "start_time": "2023-07-11T13:58:15.643Z"
   },
   {
    "duration": 25,
    "start_time": "2023-07-11T13:58:15.653Z"
   },
   {
    "duration": 15,
    "start_time": "2023-07-11T13:58:15.685Z"
   },
   {
    "duration": 9,
    "start_time": "2023-07-11T13:58:15.702Z"
   },
   {
    "duration": 427,
    "start_time": "2023-07-11T13:58:15.713Z"
   },
   {
    "duration": 280,
    "start_time": "2023-07-11T13:58:16.143Z"
   },
   {
    "duration": 325,
    "start_time": "2023-07-11T13:58:16.425Z"
   },
   {
    "duration": 26,
    "start_time": "2023-07-11T13:58:16.752Z"
   },
   {
    "duration": 8,
    "start_time": "2023-07-11T13:59:27.030Z"
   },
   {
    "duration": 12,
    "start_time": "2023-07-11T14:04:01.204Z"
   },
   {
    "duration": 5,
    "start_time": "2023-07-11T14:31:44.701Z"
   },
   {
    "duration": 5,
    "start_time": "2023-07-11T14:32:56.740Z"
   },
   {
    "duration": 139,
    "start_time": "2023-07-11T14:32:58.662Z"
   },
   {
    "duration": 49,
    "start_time": "2023-07-11T14:33:26.540Z"
   },
   {
    "duration": 1435,
    "start_time": "2023-07-11T14:33:32.598Z"
   },
   {
    "duration": 27,
    "start_time": "2023-07-11T14:33:34.037Z"
   },
   {
    "duration": 18,
    "start_time": "2023-07-11T14:33:34.066Z"
   },
   {
    "duration": 9,
    "start_time": "2023-07-11T14:33:34.088Z"
   },
   {
    "duration": 6,
    "start_time": "2023-07-11T14:33:34.099Z"
   },
   {
    "duration": 4,
    "start_time": "2023-07-11T14:33:34.107Z"
   },
   {
    "duration": 5,
    "start_time": "2023-07-11T14:33:34.113Z"
   },
   {
    "duration": 392,
    "start_time": "2023-07-11T14:33:34.120Z"
   },
   {
    "duration": 226,
    "start_time": "2023-07-11T14:33:34.513Z"
   },
   {
    "duration": 266,
    "start_time": "2023-07-11T14:33:34.742Z"
   },
   {
    "duration": 10,
    "start_time": "2023-07-11T14:33:35.010Z"
   },
   {
    "duration": 8,
    "start_time": "2023-07-11T14:33:35.021Z"
   },
   {
    "duration": 157,
    "start_time": "2023-07-11T14:33:35.030Z"
   },
   {
    "duration": 4,
    "start_time": "2023-07-11T14:33:54.248Z"
   },
   {
    "duration": 4,
    "start_time": "2023-07-11T14:35:18.788Z"
   },
   {
    "duration": 213,
    "start_time": "2023-07-11T14:35:19.335Z"
   },
   {
    "duration": 3,
    "start_time": "2023-07-11T14:35:39.887Z"
   },
   {
    "duration": 207,
    "start_time": "2023-07-11T14:35:40.698Z"
   },
   {
    "duration": 39,
    "start_time": "2023-07-11T14:35:56.414Z"
   },
   {
    "duration": 5,
    "start_time": "2023-07-11T14:36:07.153Z"
   },
   {
    "duration": 1388,
    "start_time": "2023-07-11T14:37:40.112Z"
   },
   {
    "duration": 3,
    "start_time": "2023-07-11T14:37:58.458Z"
   },
   {
    "duration": 1521,
    "start_time": "2023-07-11T14:37:59.214Z"
   },
   {
    "duration": 3,
    "start_time": "2023-07-11T14:38:26.786Z"
   },
   {
    "duration": 1406,
    "start_time": "2023-07-11T14:38:27.215Z"
   },
   {
    "duration": 4,
    "start_time": "2023-07-11T14:39:58.205Z"
   },
   {
    "duration": 1375,
    "start_time": "2023-07-11T14:39:58.817Z"
   },
   {
    "duration": 63,
    "start_time": "2023-07-11T14:42:43.859Z"
   },
   {
    "duration": 25,
    "start_time": "2023-07-11T14:42:46.234Z"
   },
   {
    "duration": 12,
    "start_time": "2023-07-11T14:42:46.763Z"
   },
   {
    "duration": 9,
    "start_time": "2023-07-11T14:42:46.795Z"
   },
   {
    "duration": 6,
    "start_time": "2023-07-11T14:42:46.828Z"
   },
   {
    "duration": 3,
    "start_time": "2023-07-11T14:42:46.905Z"
   },
   {
    "duration": 5,
    "start_time": "2023-07-11T14:42:46.941Z"
   },
   {
    "duration": 268,
    "start_time": "2023-07-11T14:42:46.961Z"
   },
   {
    "duration": 327,
    "start_time": "2023-07-11T14:42:47.232Z"
   },
   {
    "duration": 287,
    "start_time": "2023-07-11T14:42:47.561Z"
   },
   {
    "duration": 27,
    "start_time": "2023-07-11T14:42:47.851Z"
   },
   {
    "duration": 4,
    "start_time": "2023-07-11T14:42:47.880Z"
   },
   {
    "duration": 1388,
    "start_time": "2023-07-11T14:42:47.888Z"
   },
   {
    "duration": 10,
    "start_time": "2023-07-11T14:44:03.407Z"
   },
   {
    "duration": 13,
    "start_time": "2023-07-11T14:44:05.219Z"
   },
   {
    "duration": 5,
    "start_time": "2023-07-11T14:44:05.386Z"
   },
   {
    "duration": 10,
    "start_time": "2023-07-11T14:44:55.119Z"
   },
   {
    "duration": 4,
    "start_time": "2023-07-11T14:46:01.895Z"
   },
   {
    "duration": 1493,
    "start_time": "2023-07-11T14:46:04.790Z"
   },
   {
    "duration": 3,
    "start_time": "2023-07-11T14:46:06.455Z"
   },
   {
    "duration": 1411,
    "start_time": "2023-07-11T14:46:07.192Z"
   },
   {
    "duration": 10,
    "start_time": "2023-07-11T14:46:10.639Z"
   },
   {
    "duration": 36,
    "start_time": "2023-07-11T14:46:15.003Z"
   },
   {
    "duration": 28,
    "start_time": "2023-07-11T14:46:27.389Z"
   },
   {
    "duration": 4,
    "start_time": "2023-07-11T14:46:36.837Z"
   },
   {
    "duration": 1474,
    "start_time": "2023-07-11T14:46:37.217Z"
   },
   {
    "duration": 44596,
    "start_time": "2023-07-11T14:46:39.193Z"
   },
   {
    "duration": 0,
    "start_time": "2023-07-11T14:47:23.792Z"
   },
   {
    "duration": 917,
    "start_time": "2023-07-11T14:47:27.726Z"
   },
   {
    "duration": 0,
    "start_time": "2023-07-11T14:47:28.645Z"
   },
   {
    "duration": 0,
    "start_time": "2023-07-11T14:47:28.647Z"
   },
   {
    "duration": 0,
    "start_time": "2023-07-11T14:47:28.648Z"
   },
   {
    "duration": 0,
    "start_time": "2023-07-11T14:47:28.649Z"
   },
   {
    "duration": 0,
    "start_time": "2023-07-11T14:47:28.649Z"
   },
   {
    "duration": 0,
    "start_time": "2023-07-11T14:47:28.650Z"
   },
   {
    "duration": 0,
    "start_time": "2023-07-11T14:47:28.651Z"
   },
   {
    "duration": 0,
    "start_time": "2023-07-11T14:47:28.652Z"
   },
   {
    "duration": 0,
    "start_time": "2023-07-11T14:47:28.654Z"
   },
   {
    "duration": 0,
    "start_time": "2023-07-11T14:47:28.655Z"
   },
   {
    "duration": 0,
    "start_time": "2023-07-11T14:47:28.668Z"
   },
   {
    "duration": 0,
    "start_time": "2023-07-11T14:47:28.673Z"
   },
   {
    "duration": 0,
    "start_time": "2023-07-11T14:47:28.674Z"
   },
   {
    "duration": 0,
    "start_time": "2023-07-11T14:47:28.675Z"
   },
   {
    "duration": 0,
    "start_time": "2023-07-11T14:47:28.676Z"
   },
   {
    "duration": 0,
    "start_time": "2023-07-11T14:47:28.677Z"
   },
   {
    "duration": 0,
    "start_time": "2023-07-11T14:47:28.677Z"
   },
   {
    "duration": 1475,
    "start_time": "2023-07-11T14:47:43.310Z"
   },
   {
    "duration": 31,
    "start_time": "2023-07-11T14:47:44.788Z"
   },
   {
    "duration": 9,
    "start_time": "2023-07-11T14:47:44.820Z"
   },
   {
    "duration": 11,
    "start_time": "2023-07-11T14:47:44.831Z"
   },
   {
    "duration": 22,
    "start_time": "2023-07-11T14:47:44.844Z"
   },
   {
    "duration": 8,
    "start_time": "2023-07-11T14:47:44.868Z"
   },
   {
    "duration": 9,
    "start_time": "2023-07-11T14:47:44.878Z"
   },
   {
    "duration": 403,
    "start_time": "2023-07-11T14:47:44.889Z"
   },
   {
    "duration": 238,
    "start_time": "2023-07-11T14:47:45.294Z"
   },
   {
    "duration": 295,
    "start_time": "2023-07-11T14:47:45.534Z"
   },
   {
    "duration": 15,
    "start_time": "2023-07-11T14:47:45.832Z"
   },
   {
    "duration": 3,
    "start_time": "2023-07-11T14:47:45.849Z"
   },
   {
    "duration": 1399,
    "start_time": "2023-07-11T14:47:45.872Z"
   },
   {
    "duration": 472215,
    "start_time": "2023-07-11T14:47:47.273Z"
   },
   {
    "duration": 110,
    "start_time": "2023-07-11T14:55:39.490Z"
   },
   {
    "duration": 0,
    "start_time": "2023-07-11T14:55:39.602Z"
   },
   {
    "duration": 0,
    "start_time": "2023-07-11T14:55:39.603Z"
   },
   {
    "duration": 0,
    "start_time": "2023-07-11T14:55:39.604Z"
   },
   {
    "duration": 0,
    "start_time": "2023-07-11T14:55:39.605Z"
   },
   {
    "duration": 9,
    "start_time": "2023-07-11T14:56:17.096Z"
   },
   {
    "duration": 434,
    "start_time": "2023-07-11T14:56:20.956Z"
   },
   {
    "duration": 498111,
    "start_time": "2023-07-11T14:56:37.708Z"
   },
   {
    "duration": 570,
    "start_time": "2023-07-11T15:04:55.821Z"
   },
   {
    "duration": 21,
    "start_time": "2023-07-11T15:06:26.991Z"
   },
   {
    "duration": 3,
    "start_time": "2023-07-11T15:07:09.260Z"
   },
   {
    "duration": 15,
    "start_time": "2023-07-11T15:07:09.518Z"
   },
   {
    "duration": 4772,
    "start_time": "2023-07-11T15:07:09.888Z"
   },
   {
    "duration": 19,
    "start_time": "2023-07-11T15:07:14.662Z"
   },
   {
    "duration": 21,
    "start_time": "2023-07-11T15:07:44.493Z"
   },
   {
    "duration": 8,
    "start_time": "2023-07-11T15:08:45.092Z"
   },
   {
    "duration": 7,
    "start_time": "2023-07-11T15:08:58.893Z"
   },
   {
    "duration": 18,
    "start_time": "2023-07-11T15:08:59.195Z"
   },
   {
    "duration": 6054,
    "start_time": "2023-07-11T15:08:59.325Z"
   },
   {
    "duration": 15,
    "start_time": "2023-07-11T15:09:05.385Z"
   },
   {
    "duration": 12,
    "start_time": "2023-07-11T15:09:05.402Z"
   },
   {
    "duration": 5149,
    "start_time": "2023-07-11T15:09:45.021Z"
   },
   {
    "duration": 11,
    "start_time": "2023-07-11T15:09:50.173Z"
   },
   {
    "duration": 11,
    "start_time": "2023-07-11T15:09:50.186Z"
   },
   {
    "duration": 574,
    "start_time": "2023-07-11T15:09:59.221Z"
   },
   {
    "duration": 11,
    "start_time": "2023-07-11T15:10:05.983Z"
   },
   {
    "duration": 8,
    "start_time": "2023-07-11T15:10:06.169Z"
   },
   {
    "duration": 5,
    "start_time": "2023-07-11T15:10:19.901Z"
   },
   {
    "duration": 1691,
    "start_time": "2023-07-12T06:07:46.479Z"
   },
   {
    "duration": 1354,
    "start_time": "2023-07-12T06:07:51.395Z"
   },
   {
    "duration": 20,
    "start_time": "2023-07-12T06:07:52.751Z"
   },
   {
    "duration": 6,
    "start_time": "2023-07-12T06:07:52.773Z"
   },
   {
    "duration": 15,
    "start_time": "2023-07-12T06:07:52.781Z"
   },
   {
    "duration": 7,
    "start_time": "2023-07-12T06:07:52.798Z"
   },
   {
    "duration": 9,
    "start_time": "2023-07-12T06:07:52.806Z"
   },
   {
    "duration": 9,
    "start_time": "2023-07-12T06:07:52.817Z"
   },
   {
    "duration": 36,
    "start_time": "2023-07-12T06:07:52.828Z"
   },
   {
    "duration": 339,
    "start_time": "2023-07-12T06:07:52.866Z"
   },
   {
    "duration": 235,
    "start_time": "2023-07-12T06:07:53.208Z"
   },
   {
    "duration": 297,
    "start_time": "2023-07-12T06:07:53.445Z"
   },
   {
    "duration": 27,
    "start_time": "2023-07-12T06:07:53.744Z"
   },
   {
    "duration": 3,
    "start_time": "2023-07-12T06:07:53.773Z"
   },
   {
    "duration": 1114,
    "start_time": "2023-07-12T06:07:53.778Z"
   },
   {
    "duration": 28386,
    "start_time": "2023-07-12T06:07:54.893Z"
   },
   {
    "duration": 0,
    "start_time": "2023-07-12T06:08:23.281Z"
   },
   {
    "duration": 0,
    "start_time": "2023-07-12T06:08:23.282Z"
   },
   {
    "duration": 0,
    "start_time": "2023-07-12T06:08:23.283Z"
   },
   {
    "duration": 0,
    "start_time": "2023-07-12T06:08:23.284Z"
   },
   {
    "duration": 0,
    "start_time": "2023-07-12T06:08:23.284Z"
   },
   {
    "duration": 0,
    "start_time": "2023-07-12T06:08:23.286Z"
   },
   {
    "duration": 1382,
    "start_time": "2023-07-12T06:08:31.213Z"
   },
   {
    "duration": 25,
    "start_time": "2023-07-12T06:08:32.597Z"
   },
   {
    "duration": 7,
    "start_time": "2023-07-12T06:08:32.624Z"
   },
   {
    "duration": 12,
    "start_time": "2023-07-12T06:08:32.633Z"
   },
   {
    "duration": 13,
    "start_time": "2023-07-12T06:08:32.655Z"
   },
   {
    "duration": 8,
    "start_time": "2023-07-12T06:08:32.670Z"
   },
   {
    "duration": 10,
    "start_time": "2023-07-12T06:08:32.679Z"
   },
   {
    "duration": 5,
    "start_time": "2023-07-12T06:08:32.691Z"
   },
   {
    "duration": 327,
    "start_time": "2023-07-12T06:08:32.698Z"
   },
   {
    "duration": 249,
    "start_time": "2023-07-12T06:08:33.027Z"
   },
   {
    "duration": 273,
    "start_time": "2023-07-12T06:08:33.278Z"
   },
   {
    "duration": 18,
    "start_time": "2023-07-12T06:08:33.556Z"
   },
   {
    "duration": 4,
    "start_time": "2023-07-12T06:08:33.576Z"
   },
   {
    "duration": 1407,
    "start_time": "2023-07-12T06:08:33.583Z"
   },
   {
    "duration": 2096,
    "start_time": "2023-07-12T11:00:44.961Z"
   },
   {
    "duration": 21,
    "start_time": "2023-07-12T11:00:47.059Z"
   },
   {
    "duration": 65,
    "start_time": "2023-07-12T11:00:47.082Z"
   },
   {
    "duration": 29,
    "start_time": "2023-07-12T11:00:47.150Z"
   },
   {
    "duration": 56,
    "start_time": "2023-07-12T11:00:47.181Z"
   },
   {
    "duration": 21,
    "start_time": "2023-07-12T11:00:47.240Z"
   },
   {
    "duration": 28,
    "start_time": "2023-07-12T11:00:47.263Z"
   },
   {
    "duration": 62,
    "start_time": "2023-07-12T11:00:47.293Z"
   },
   {
    "duration": 442,
    "start_time": "2023-07-12T11:00:47.356Z"
   },
   {
    "duration": 282,
    "start_time": "2023-07-12T11:00:47.802Z"
   },
   {
    "duration": 325,
    "start_time": "2023-07-12T11:00:48.086Z"
   },
   {
    "duration": 30,
    "start_time": "2023-07-12T11:00:48.413Z"
   },
   {
    "duration": 20,
    "start_time": "2023-07-12T11:00:48.445Z"
   },
   {
    "duration": 1940,
    "start_time": "2023-07-12T11:00:48.467Z"
   },
   {
    "duration": 0,
    "start_time": "2023-07-12T11:00:50.409Z"
   },
   {
    "duration": 0,
    "start_time": "2023-07-12T11:00:50.410Z"
   },
   {
    "duration": 0,
    "start_time": "2023-07-12T11:00:50.411Z"
   },
   {
    "duration": 0,
    "start_time": "2023-07-12T11:00:50.412Z"
   },
   {
    "duration": 0,
    "start_time": "2023-07-12T11:00:50.413Z"
   },
   {
    "duration": 0,
    "start_time": "2023-07-12T11:00:50.414Z"
   },
   {
    "duration": 0,
    "start_time": "2023-07-12T11:00:50.415Z"
   },
   {
    "duration": 4,
    "start_time": "2023-07-12T11:03:56.686Z"
   },
   {
    "duration": 1632,
    "start_time": "2023-07-12T11:03:57.592Z"
   },
   {
    "duration": 750404,
    "start_time": "2023-07-12T11:04:03.584Z"
   },
   {
    "duration": 816,
    "start_time": "2023-07-12T11:16:33.991Z"
   },
   {
    "duration": 0,
    "start_time": "2023-07-12T11:16:34.915Z"
   },
   {
    "duration": 15,
    "start_time": "2023-07-12T11:17:31.138Z"
   },
   {
    "duration": 218,
    "start_time": "2023-07-12T11:17:37.586Z"
   },
   {
    "duration": 17,
    "start_time": "2023-07-12T11:17:44.962Z"
   },
   {
    "duration": 13,
    "start_time": "2023-07-12T11:17:52.728Z"
   },
   {
    "duration": 2299,
    "start_time": "2023-07-12T11:18:03.808Z"
   },
   {
    "duration": 97,
    "start_time": "2023-07-12T11:18:06.113Z"
   },
   {
    "duration": 46,
    "start_time": "2023-07-12T11:18:21.838Z"
   },
   {
    "duration": 4991,
    "start_time": "2023-07-12T11:18:29.415Z"
   },
   {
    "duration": 4,
    "start_time": "2023-07-12T11:19:03.502Z"
   },
   {
    "duration": 9,
    "start_time": "2023-07-12T11:19:06.948Z"
   },
   {
    "duration": 6,
    "start_time": "2023-07-12T11:19:11.598Z"
   },
   {
    "duration": 13,
    "start_time": "2023-07-12T11:19:18.523Z"
   },
   {
    "duration": 7369,
    "start_time": "2023-07-12T11:19:19.132Z"
   },
   {
    "duration": 5,
    "start_time": "2023-07-12T11:19:26.503Z"
   },
   {
    "duration": 11,
    "start_time": "2023-07-12T11:51:00.316Z"
   },
   {
    "duration": 10,
    "start_time": "2023-07-12T11:51:34.891Z"
   },
   {
    "duration": 11,
    "start_time": "2023-07-12T11:52:06.531Z"
   },
   {
    "duration": 1549,
    "start_time": "2023-07-12T11:52:17.902Z"
   },
   {
    "duration": 25,
    "start_time": "2023-07-12T11:52:19.454Z"
   },
   {
    "duration": 8,
    "start_time": "2023-07-12T11:52:19.480Z"
   },
   {
    "duration": 15,
    "start_time": "2023-07-12T11:52:19.491Z"
   },
   {
    "duration": 14,
    "start_time": "2023-07-12T11:52:19.508Z"
   },
   {
    "duration": 23,
    "start_time": "2023-07-12T11:52:19.524Z"
   },
   {
    "duration": 13,
    "start_time": "2023-07-12T11:52:19.549Z"
   },
   {
    "duration": 7,
    "start_time": "2023-07-12T11:52:19.564Z"
   },
   {
    "duration": 533,
    "start_time": "2023-07-12T11:52:19.574Z"
   },
   {
    "duration": 312,
    "start_time": "2023-07-12T11:52:20.111Z"
   },
   {
    "duration": 417,
    "start_time": "2023-07-12T11:52:20.425Z"
   },
   {
    "duration": 27,
    "start_time": "2023-07-12T11:52:20.844Z"
   },
   {
    "duration": 9,
    "start_time": "2023-07-12T11:52:20.873Z"
   },
   {
    "duration": 1612,
    "start_time": "2023-07-12T11:52:20.901Z"
   },
   {
    "duration": 5,
    "start_time": "2023-07-12T11:52:22.515Z"
   },
   {
    "duration": 187,
    "start_time": "2023-07-12T11:52:22.522Z"
   },
   {
    "duration": 517,
    "start_time": "2023-07-12T11:52:22.712Z"
   },
   {
    "duration": 2007,
    "start_time": "2023-07-12T11:52:23.302Z"
   },
   {
    "duration": 4,
    "start_time": "2023-07-12T11:52:25.311Z"
   },
   {
    "duration": 199,
    "start_time": "2023-07-12T11:52:25.317Z"
   },
   {
    "duration": 7854,
    "start_time": "2023-07-12T11:52:25.518Z"
   },
   {
    "duration": 28,
    "start_time": "2023-07-12T11:52:33.374Z"
   },
   {
    "duration": 101,
    "start_time": "2023-07-12T11:52:33.404Z"
   },
   {
    "duration": 94,
    "start_time": "2023-07-12T11:52:33.509Z"
   },
   {
    "duration": 19,
    "start_time": "2023-07-12T11:52:33.606Z"
   },
   {
    "duration": 1673,
    "start_time": "2023-07-12T11:53:16.788Z"
   },
   {
    "duration": 29,
    "start_time": "2023-07-12T11:53:18.464Z"
   },
   {
    "duration": 11,
    "start_time": "2023-07-12T11:53:18.495Z"
   },
   {
    "duration": 30,
    "start_time": "2023-07-12T11:53:18.513Z"
   },
   {
    "duration": 14,
    "start_time": "2023-07-12T11:53:18.546Z"
   },
   {
    "duration": 8,
    "start_time": "2023-07-12T11:53:18.562Z"
   },
   {
    "duration": 6,
    "start_time": "2023-07-12T11:53:18.572Z"
   },
   {
    "duration": 11,
    "start_time": "2023-07-12T11:53:18.580Z"
   },
   {
    "duration": 445,
    "start_time": "2023-07-12T11:53:18.601Z"
   },
   {
    "duration": 4084,
    "start_time": "2023-07-12T11:53:19.048Z"
   },
   {
    "duration": 0,
    "start_time": "2023-07-12T11:53:23.136Z"
   },
   {
    "duration": 0,
    "start_time": "2023-07-12T11:53:23.137Z"
   },
   {
    "duration": 0,
    "start_time": "2023-07-12T11:53:23.139Z"
   },
   {
    "duration": 0,
    "start_time": "2023-07-12T11:53:23.139Z"
   },
   {
    "duration": 0,
    "start_time": "2023-07-12T11:53:23.141Z"
   },
   {
    "duration": 0,
    "start_time": "2023-07-12T11:53:23.142Z"
   },
   {
    "duration": 0,
    "start_time": "2023-07-12T11:53:23.143Z"
   },
   {
    "duration": 0,
    "start_time": "2023-07-12T11:53:23.145Z"
   },
   {
    "duration": 0,
    "start_time": "2023-07-12T11:53:23.146Z"
   },
   {
    "duration": 0,
    "start_time": "2023-07-12T11:53:23.148Z"
   },
   {
    "duration": 0,
    "start_time": "2023-07-12T11:53:23.149Z"
   },
   {
    "duration": 0,
    "start_time": "2023-07-12T11:53:23.151Z"
   },
   {
    "duration": 0,
    "start_time": "2023-07-12T11:53:23.152Z"
   },
   {
    "duration": 0,
    "start_time": "2023-07-12T11:53:23.153Z"
   },
   {
    "duration": 0,
    "start_time": "2023-07-12T11:53:23.155Z"
   },
   {
    "duration": 326,
    "start_time": "2023-07-12T11:53:31.370Z"
   },
   {
    "duration": 1767,
    "start_time": "2023-07-12T11:53:37.059Z"
   },
   {
    "duration": 27,
    "start_time": "2023-07-12T11:53:38.828Z"
   },
   {
    "duration": 13,
    "start_time": "2023-07-12T11:53:38.857Z"
   },
   {
    "duration": 35,
    "start_time": "2023-07-12T11:53:38.872Z"
   },
   {
    "duration": 43,
    "start_time": "2023-07-12T11:53:38.909Z"
   },
   {
    "duration": 13,
    "start_time": "2023-07-12T11:53:38.955Z"
   },
   {
    "duration": 16,
    "start_time": "2023-07-12T11:53:38.970Z"
   },
   {
    "duration": 10,
    "start_time": "2023-07-12T11:53:38.988Z"
   },
   {
    "duration": 369,
    "start_time": "2023-07-12T11:53:39.000Z"
   },
   {
    "duration": 281,
    "start_time": "2023-07-12T11:53:39.373Z"
   },
   {
    "duration": 297,
    "start_time": "2023-07-12T11:53:39.656Z"
   },
   {
    "duration": 20,
    "start_time": "2023-07-12T11:53:39.955Z"
   },
   {
    "duration": 4,
    "start_time": "2023-07-12T11:53:39.977Z"
   },
   {
    "duration": 1709,
    "start_time": "2023-07-12T11:53:40.003Z"
   },
   {
    "duration": 4,
    "start_time": "2023-07-12T11:53:41.714Z"
   },
   {
    "duration": 95,
    "start_time": "2023-07-12T11:53:41.721Z"
   },
   {
    "duration": 809,
    "start_time": "2023-07-12T11:53:41.819Z"
   },
   {
    "duration": 1475,
    "start_time": "2023-07-12T11:53:42.630Z"
   },
   {
    "duration": 7,
    "start_time": "2023-07-12T11:53:44.108Z"
   },
   {
    "duration": 111,
    "start_time": "2023-07-12T11:53:44.118Z"
   },
   {
    "duration": 8575,
    "start_time": "2023-07-12T11:53:44.231Z"
   },
   {
    "duration": 7,
    "start_time": "2023-07-12T11:53:52.808Z"
   },
   {
    "duration": 97,
    "start_time": "2023-07-12T11:53:52.817Z"
   },
   {
    "duration": 95,
    "start_time": "2023-07-12T11:53:52.917Z"
   },
   {
    "duration": 89,
    "start_time": "2023-07-12T11:53:53.014Z"
   },
   {
    "duration": 2174,
    "start_time": "2023-07-12T11:55:00.508Z"
   },
   {
    "duration": 31,
    "start_time": "2023-07-12T11:55:02.684Z"
   },
   {
    "duration": 46,
    "start_time": "2023-07-12T11:55:02.718Z"
   },
   {
    "duration": 40,
    "start_time": "2023-07-12T11:55:02.768Z"
   },
   {
    "duration": 67,
    "start_time": "2023-07-12T11:55:02.810Z"
   },
   {
    "duration": 24,
    "start_time": "2023-07-12T11:55:02.879Z"
   },
   {
    "duration": 34,
    "start_time": "2023-07-12T11:55:02.906Z"
   },
   {
    "duration": 65,
    "start_time": "2023-07-12T11:55:02.943Z"
   },
   {
    "duration": 397,
    "start_time": "2023-07-12T11:55:03.011Z"
   },
   {
    "duration": 4680,
    "start_time": "2023-07-12T11:55:03.414Z"
   },
   {
    "duration": 0,
    "start_time": "2023-07-12T11:55:08.096Z"
   },
   {
    "duration": 0,
    "start_time": "2023-07-12T11:55:08.098Z"
   },
   {
    "duration": 0,
    "start_time": "2023-07-12T11:55:08.099Z"
   },
   {
    "duration": 0,
    "start_time": "2023-07-12T11:55:08.101Z"
   },
   {
    "duration": 0,
    "start_time": "2023-07-12T11:55:08.102Z"
   },
   {
    "duration": 0,
    "start_time": "2023-07-12T11:55:08.103Z"
   },
   {
    "duration": 0,
    "start_time": "2023-07-12T11:55:08.105Z"
   },
   {
    "duration": 0,
    "start_time": "2023-07-12T11:55:08.107Z"
   },
   {
    "duration": 0,
    "start_time": "2023-07-12T11:55:08.108Z"
   },
   {
    "duration": 0,
    "start_time": "2023-07-12T11:55:08.110Z"
   },
   {
    "duration": 0,
    "start_time": "2023-07-12T11:55:08.111Z"
   },
   {
    "duration": 0,
    "start_time": "2023-07-12T11:55:08.113Z"
   },
   {
    "duration": 0,
    "start_time": "2023-07-12T11:55:08.114Z"
   },
   {
    "duration": 0,
    "start_time": "2023-07-12T11:55:08.116Z"
   },
   {
    "duration": 0,
    "start_time": "2023-07-12T11:55:08.117Z"
   },
   {
    "duration": 263,
    "start_time": "2023-07-12T11:55:18.933Z"
   },
   {
    "duration": 1526,
    "start_time": "2023-07-12T11:55:25.602Z"
   },
   {
    "duration": 21,
    "start_time": "2023-07-12T11:55:27.130Z"
   },
   {
    "duration": 7,
    "start_time": "2023-07-12T11:55:27.153Z"
   },
   {
    "duration": 14,
    "start_time": "2023-07-12T11:55:27.162Z"
   },
   {
    "duration": 39,
    "start_time": "2023-07-12T11:55:27.178Z"
   },
   {
    "duration": 17,
    "start_time": "2023-07-12T11:55:27.219Z"
   },
   {
    "duration": 6,
    "start_time": "2023-07-12T11:55:27.238Z"
   },
   {
    "duration": 8,
    "start_time": "2023-07-12T11:55:27.246Z"
   },
   {
    "duration": 420,
    "start_time": "2023-07-12T11:55:27.256Z"
   },
   {
    "duration": 273,
    "start_time": "2023-07-12T11:55:27.678Z"
   },
   {
    "duration": 294,
    "start_time": "2023-07-12T11:55:27.953Z"
   },
   {
    "duration": 21,
    "start_time": "2023-07-12T11:55:28.248Z"
   },
   {
    "duration": 7,
    "start_time": "2023-07-12T11:55:28.271Z"
   },
   {
    "duration": 1669,
    "start_time": "2023-07-12T11:55:28.301Z"
   },
   {
    "duration": 6,
    "start_time": "2023-07-12T11:55:29.973Z"
   },
   {
    "duration": 132,
    "start_time": "2023-07-12T11:55:29.981Z"
   },
   {
    "duration": 1503,
    "start_time": "2023-07-12T11:55:30.116Z"
   },
   {
    "duration": 4902,
    "start_time": "2023-07-12T11:55:31.621Z"
   },
   {
    "duration": 74,
    "start_time": "2023-07-12T11:55:36.530Z"
   },
   {
    "duration": 35,
    "start_time": "2023-07-12T11:55:36.607Z"
   },
   {
    "duration": 8462,
    "start_time": "2023-07-12T11:55:36.644Z"
   },
   {
    "duration": 11,
    "start_time": "2023-07-12T11:55:45.108Z"
   },
   {
    "duration": 183,
    "start_time": "2023-07-12T11:55:45.121Z"
   },
   {
    "duration": 112,
    "start_time": "2023-07-12T11:55:45.306Z"
   },
   {
    "duration": 87,
    "start_time": "2023-07-12T11:55:45.421Z"
   },
   {
    "duration": 1758,
    "start_time": "2023-07-12T11:56:24.119Z"
   },
   {
    "duration": 30,
    "start_time": "2023-07-12T11:56:25.879Z"
   },
   {
    "duration": 8,
    "start_time": "2023-07-12T11:56:25.911Z"
   },
   {
    "duration": 17,
    "start_time": "2023-07-12T11:56:25.922Z"
   },
   {
    "duration": 11,
    "start_time": "2023-07-12T11:56:25.941Z"
   },
   {
    "duration": 14,
    "start_time": "2023-07-12T11:56:25.955Z"
   },
   {
    "duration": 9,
    "start_time": "2023-07-12T11:56:25.971Z"
   },
   {
    "duration": 28,
    "start_time": "2023-07-12T11:56:25.982Z"
   },
   {
    "duration": 362,
    "start_time": "2023-07-12T11:56:26.012Z"
   },
   {
    "duration": 287,
    "start_time": "2023-07-12T11:56:26.378Z"
   },
   {
    "duration": 321,
    "start_time": "2023-07-12T11:56:26.667Z"
   },
   {
    "duration": 25,
    "start_time": "2023-07-12T11:56:26.990Z"
   },
   {
    "duration": 4,
    "start_time": "2023-07-12T11:56:27.017Z"
   },
   {
    "duration": 1184,
    "start_time": "2023-07-12T11:56:27.023Z"
   },
   {
    "duration": 5,
    "start_time": "2023-07-12T11:56:28.209Z"
   },
   {
    "duration": 99,
    "start_time": "2023-07-12T11:56:28.217Z"
   },
   {
    "duration": 685,
    "start_time": "2023-07-12T11:56:28.319Z"
   },
   {
    "duration": 1495,
    "start_time": "2023-07-12T11:56:29.007Z"
   },
   {
    "duration": 6,
    "start_time": "2023-07-12T11:56:30.506Z"
   },
   {
    "duration": 238,
    "start_time": "2023-07-12T11:56:30.515Z"
   },
   {
    "duration": 5159,
    "start_time": "2023-07-12T11:56:30.756Z"
   },
   {
    "duration": 6,
    "start_time": "2023-07-12T11:56:35.918Z"
   },
   {
    "duration": 10,
    "start_time": "2023-07-12T11:56:35.926Z"
   },
   {
    "duration": 68,
    "start_time": "2023-07-12T11:56:35.938Z"
   },
   {
    "duration": 95,
    "start_time": "2023-07-12T11:56:36.008Z"
   },
   {
    "duration": 1747,
    "start_time": "2023-07-12T12:02:05.678Z"
   },
   {
    "duration": 22,
    "start_time": "2023-07-12T12:02:07.427Z"
   },
   {
    "duration": 41,
    "start_time": "2023-07-12T12:02:07.450Z"
   },
   {
    "duration": 46,
    "start_time": "2023-07-12T12:02:07.493Z"
   },
   {
    "duration": 21,
    "start_time": "2023-07-12T12:02:07.542Z"
   },
   {
    "duration": 2539,
    "start_time": "2023-07-12T12:02:07.565Z"
   },
   {
    "duration": 0,
    "start_time": "2023-07-12T12:02:10.108Z"
   },
   {
    "duration": 0,
    "start_time": "2023-07-12T12:02:10.109Z"
   },
   {
    "duration": 0,
    "start_time": "2023-07-12T12:02:10.109Z"
   },
   {
    "duration": 0,
    "start_time": "2023-07-12T12:02:10.111Z"
   },
   {
    "duration": 0,
    "start_time": "2023-07-12T12:02:10.113Z"
   },
   {
    "duration": 0,
    "start_time": "2023-07-12T12:02:10.114Z"
   },
   {
    "duration": 0,
    "start_time": "2023-07-12T12:02:10.116Z"
   },
   {
    "duration": 0,
    "start_time": "2023-07-12T12:02:10.117Z"
   },
   {
    "duration": 0,
    "start_time": "2023-07-12T12:02:10.118Z"
   },
   {
    "duration": 0,
    "start_time": "2023-07-12T12:02:10.120Z"
   },
   {
    "duration": 0,
    "start_time": "2023-07-12T12:02:10.121Z"
   },
   {
    "duration": 0,
    "start_time": "2023-07-12T12:02:10.123Z"
   },
   {
    "duration": 0,
    "start_time": "2023-07-12T12:02:10.124Z"
   },
   {
    "duration": 0,
    "start_time": "2023-07-12T12:02:10.125Z"
   },
   {
    "duration": 0,
    "start_time": "2023-07-12T12:02:10.127Z"
   },
   {
    "duration": 0,
    "start_time": "2023-07-12T12:02:10.128Z"
   },
   {
    "duration": 0,
    "start_time": "2023-07-12T12:02:10.129Z"
   },
   {
    "duration": 0,
    "start_time": "2023-07-12T12:02:10.130Z"
   },
   {
    "duration": 0,
    "start_time": "2023-07-12T12:02:10.132Z"
   },
   {
    "duration": 8,
    "start_time": "2023-07-12T12:02:21.700Z"
   },
   {
    "duration": 2285,
    "start_time": "2023-07-12T12:02:26.065Z"
   },
   {
    "duration": 23,
    "start_time": "2023-07-12T12:02:28.351Z"
   },
   {
    "duration": 7,
    "start_time": "2023-07-12T12:02:28.376Z"
   },
   {
    "duration": 10,
    "start_time": "2023-07-12T12:02:28.385Z"
   },
   {
    "duration": 8,
    "start_time": "2023-07-12T12:02:28.401Z"
   },
   {
    "duration": 14,
    "start_time": "2023-07-12T12:02:28.411Z"
   },
   {
    "duration": 7,
    "start_time": "2023-07-12T12:02:28.427Z"
   },
   {
    "duration": 5,
    "start_time": "2023-07-12T12:02:28.436Z"
   },
   {
    "duration": 349,
    "start_time": "2023-07-12T12:02:28.443Z"
   },
   {
    "duration": 255,
    "start_time": "2023-07-12T12:02:28.802Z"
   },
   {
    "duration": 329,
    "start_time": "2023-07-12T12:02:29.059Z"
   },
   {
    "duration": 28,
    "start_time": "2023-07-12T12:02:29.391Z"
   },
   {
    "duration": 3,
    "start_time": "2023-07-12T12:02:29.421Z"
   },
   {
    "duration": 1462,
    "start_time": "2023-07-12T12:02:29.427Z"
   },
   {
    "duration": 15,
    "start_time": "2023-07-12T12:02:30.892Z"
   },
   {
    "duration": 104,
    "start_time": "2023-07-12T12:02:30.909Z"
   },
   {
    "duration": 1088,
    "start_time": "2023-07-12T12:02:31.018Z"
   },
   {
    "duration": 618,
    "start_time": "2023-07-12T12:02:32.112Z"
   },
   {
    "duration": 4,
    "start_time": "2023-07-12T12:02:32.803Z"
   },
   {
    "duration": 120,
    "start_time": "2023-07-12T12:02:32.809Z"
   },
   {
    "duration": 5607,
    "start_time": "2023-07-12T12:02:32.931Z"
   },
   {
    "duration": 6,
    "start_time": "2023-07-12T12:02:38.540Z"
   },
   {
    "duration": 61,
    "start_time": "2023-07-12T12:02:38.548Z"
   },
   {
    "duration": 5,
    "start_time": "2023-07-12T12:02:38.612Z"
   },
   {
    "duration": 105,
    "start_time": "2023-07-12T12:02:38.619Z"
   },
   {
    "duration": 1667,
    "start_time": "2023-07-12T12:03:20.220Z"
   },
   {
    "duration": 22,
    "start_time": "2023-07-12T12:03:21.889Z"
   },
   {
    "duration": 7,
    "start_time": "2023-07-12T12:03:21.912Z"
   },
   {
    "duration": 14,
    "start_time": "2023-07-12T12:03:21.922Z"
   },
   {
    "duration": 12,
    "start_time": "2023-07-12T12:03:21.938Z"
   },
   {
    "duration": 9,
    "start_time": "2023-07-12T12:03:21.952Z"
   },
   {
    "duration": 11,
    "start_time": "2023-07-12T12:03:21.963Z"
   },
   {
    "duration": 27,
    "start_time": "2023-07-12T12:03:21.975Z"
   },
   {
    "duration": 354,
    "start_time": "2023-07-12T12:03:22.003Z"
   },
   {
    "duration": 271,
    "start_time": "2023-07-12T12:03:22.360Z"
   },
   {
    "duration": 292,
    "start_time": "2023-07-12T12:03:22.632Z"
   },
   {
    "duration": 18,
    "start_time": "2023-07-12T12:03:22.926Z"
   },
   {
    "duration": 4,
    "start_time": "2023-07-12T12:03:22.946Z"
   },
   {
    "duration": 1302,
    "start_time": "2023-07-12T12:03:22.952Z"
   },
   {
    "duration": 4,
    "start_time": "2023-07-12T12:03:24.256Z"
   },
   {
    "duration": 41,
    "start_time": "2023-07-12T12:03:24.262Z"
   },
   {
    "duration": 1203,
    "start_time": "2023-07-12T12:03:24.405Z"
   },
   {
    "duration": 1892,
    "start_time": "2023-07-12T12:03:25.611Z"
   },
   {
    "duration": 4,
    "start_time": "2023-07-12T12:03:27.505Z"
   },
   {
    "duration": 104,
    "start_time": "2023-07-12T12:03:27.511Z"
   },
   {
    "duration": 5568,
    "start_time": "2023-07-12T12:03:27.616Z"
   },
   {
    "duration": 7,
    "start_time": "2023-07-12T12:03:33.186Z"
   },
   {
    "duration": 31,
    "start_time": "2023-07-12T12:03:33.194Z"
   },
   {
    "duration": 75,
    "start_time": "2023-07-12T12:03:33.229Z"
   },
   {
    "duration": 96,
    "start_time": "2023-07-12T12:03:33.307Z"
   },
   {
    "duration": 1858,
    "start_time": "2023-07-12T12:04:25.902Z"
   },
   {
    "duration": 24,
    "start_time": "2023-07-12T12:04:27.763Z"
   },
   {
    "duration": 143,
    "start_time": "2023-07-12T12:04:27.789Z"
   },
   {
    "duration": 19,
    "start_time": "2023-07-12T12:04:27.934Z"
   },
   {
    "duration": 9,
    "start_time": "2023-07-12T12:04:27.956Z"
   },
   {
    "duration": 7,
    "start_time": "2023-07-12T12:04:27.967Z"
   },
   {
    "duration": 15,
    "start_time": "2023-07-12T12:04:27.975Z"
   },
   {
    "duration": 11,
    "start_time": "2023-07-12T12:04:27.992Z"
   },
   {
    "duration": 353,
    "start_time": "2023-07-12T12:04:28.006Z"
   },
   {
    "duration": 254,
    "start_time": "2023-07-12T12:04:28.361Z"
   },
   {
    "duration": 310,
    "start_time": "2023-07-12T12:04:28.617Z"
   },
   {
    "duration": 18,
    "start_time": "2023-07-12T12:04:28.929Z"
   },
   {
    "duration": 5,
    "start_time": "2023-07-12T12:04:28.950Z"
   },
   {
    "duration": 1268,
    "start_time": "2023-07-12T12:04:28.958Z"
   },
   {
    "duration": 4,
    "start_time": "2023-07-12T12:04:30.228Z"
   },
   {
    "duration": 176,
    "start_time": "2023-07-12T12:04:30.234Z"
   },
   {
    "duration": 989,
    "start_time": "2023-07-12T12:04:30.412Z"
   },
   {
    "duration": 1404,
    "start_time": "2023-07-12T12:04:31.403Z"
   },
   {
    "duration": 4,
    "start_time": "2023-07-12T12:04:32.809Z"
   },
   {
    "duration": 98,
    "start_time": "2023-07-12T12:04:32.815Z"
   },
   {
    "duration": 4955,
    "start_time": "2023-07-12T12:04:32.915Z"
   },
   {
    "duration": 6,
    "start_time": "2023-07-12T12:04:37.872Z"
   },
   {
    "duration": 29,
    "start_time": "2023-07-12T12:04:37.879Z"
   },
   {
    "duration": 12,
    "start_time": "2023-07-12T12:04:37.911Z"
   },
   {
    "duration": 84,
    "start_time": "2023-07-12T12:04:37.926Z"
   },
   {
    "duration": 1477,
    "start_time": "2023-07-12T12:06:08.288Z"
   },
   {
    "duration": 22,
    "start_time": "2023-07-12T12:06:09.767Z"
   },
   {
    "duration": 7,
    "start_time": "2023-07-12T12:06:09.791Z"
   },
   {
    "duration": 11,
    "start_time": "2023-07-12T12:06:09.800Z"
   },
   {
    "duration": 7,
    "start_time": "2023-07-12T12:06:09.814Z"
   },
   {
    "duration": 14,
    "start_time": "2023-07-12T12:06:09.822Z"
   },
   {
    "duration": 5,
    "start_time": "2023-07-12T12:06:09.838Z"
   },
   {
    "duration": 9,
    "start_time": "2023-07-12T12:06:09.845Z"
   },
   {
    "duration": 347,
    "start_time": "2023-07-12T12:06:09.855Z"
   },
   {
    "duration": 297,
    "start_time": "2023-07-12T12:06:10.205Z"
   },
   {
    "duration": 342,
    "start_time": "2023-07-12T12:06:10.504Z"
   },
   {
    "duration": 9,
    "start_time": "2023-07-12T12:06:10.848Z"
   },
   {
    "duration": 14,
    "start_time": "2023-07-12T12:06:10.859Z"
   },
   {
    "duration": 26,
    "start_time": "2023-07-12T12:06:10.876Z"
   },
   {
    "duration": 978,
    "start_time": "2023-07-12T12:06:10.904Z"
   },
   {
    "duration": 4,
    "start_time": "2023-07-12T12:06:11.884Z"
   },
   {
    "duration": 115,
    "start_time": "2023-07-12T12:06:11.889Z"
   },
   {
    "duration": 1208,
    "start_time": "2023-07-12T12:06:12.006Z"
   },
   {
    "duration": 1096,
    "start_time": "2023-07-12T12:06:13.216Z"
   },
   {
    "duration": 88,
    "start_time": "2023-07-12T12:06:14.315Z"
   },
   {
    "duration": 110,
    "start_time": "2023-07-12T12:06:14.408Z"
   },
   {
    "duration": 4076,
    "start_time": "2023-07-12T12:06:14.520Z"
   },
   {
    "duration": 8,
    "start_time": "2023-07-12T12:06:18.598Z"
   },
   {
    "duration": 15,
    "start_time": "2023-07-12T12:06:18.608Z"
   },
   {
    "duration": 81,
    "start_time": "2023-07-12T12:06:18.625Z"
   },
   {
    "duration": 19,
    "start_time": "2023-07-12T12:06:18.708Z"
   },
   {
    "duration": 59,
    "start_time": "2023-07-12T12:33:28.145Z"
   },
   {
    "duration": 1550,
    "start_time": "2023-07-12T12:33:48.004Z"
   },
   {
    "duration": 19,
    "start_time": "2023-07-12T12:33:49.556Z"
   },
   {
    "duration": 10,
    "start_time": "2023-07-12T12:33:49.577Z"
   },
   {
    "duration": 15,
    "start_time": "2023-07-12T12:33:49.589Z"
   },
   {
    "duration": 10,
    "start_time": "2023-07-12T12:33:49.606Z"
   },
   {
    "duration": 9,
    "start_time": "2023-07-12T12:33:49.618Z"
   },
   {
    "duration": 7,
    "start_time": "2023-07-12T12:33:49.629Z"
   },
   {
    "duration": 14,
    "start_time": "2023-07-12T12:33:49.638Z"
   },
   {
    "duration": 348,
    "start_time": "2023-07-12T12:33:49.654Z"
   },
   {
    "duration": 265,
    "start_time": "2023-07-12T12:33:50.004Z"
   },
   {
    "duration": 349,
    "start_time": "2023-07-12T12:33:50.271Z"
   },
   {
    "duration": 11,
    "start_time": "2023-07-12T12:33:50.622Z"
   },
   {
    "duration": 40,
    "start_time": "2023-07-12T12:33:50.635Z"
   },
   {
    "duration": 9,
    "start_time": "2023-07-12T12:33:50.679Z"
   },
   {
    "duration": 980,
    "start_time": "2023-07-12T12:33:50.691Z"
   },
   {
    "duration": 4,
    "start_time": "2023-07-12T12:33:51.673Z"
   },
   {
    "duration": 122,
    "start_time": "2023-07-12T12:33:51.679Z"
   },
   {
    "duration": 809,
    "start_time": "2023-07-12T12:33:51.803Z"
   },
   {
    "duration": 1095,
    "start_time": "2023-07-12T12:33:52.614Z"
   },
   {
    "duration": 87,
    "start_time": "2023-07-12T12:33:53.715Z"
   },
   {
    "duration": 37,
    "start_time": "2023-07-12T12:33:53.805Z"
   },
   {
    "duration": 3777,
    "start_time": "2023-07-12T12:33:53.843Z"
   },
   {
    "duration": 6,
    "start_time": "2023-07-12T12:33:57.622Z"
   },
   {
    "duration": 8,
    "start_time": "2023-07-12T12:33:57.630Z"
   },
   {
    "duration": 64,
    "start_time": "2023-07-12T12:33:57.640Z"
   },
   {
    "duration": 16,
    "start_time": "2023-07-12T12:33:57.706Z"
   },
   {
    "duration": 1542,
    "start_time": "2023-07-12T12:35:01.141Z"
   },
   {
    "duration": 15,
    "start_time": "2023-07-12T12:35:02.686Z"
   },
   {
    "duration": 28,
    "start_time": "2023-07-12T12:35:02.703Z"
   },
   {
    "duration": 38,
    "start_time": "2023-07-12T12:35:02.733Z"
   },
   {
    "duration": 40,
    "start_time": "2023-07-12T12:35:02.773Z"
   },
   {
    "duration": 47,
    "start_time": "2023-07-12T12:35:02.815Z"
   },
   {
    "duration": 8,
    "start_time": "2023-07-12T12:35:02.864Z"
   },
   {
    "duration": 42,
    "start_time": "2023-07-12T12:35:02.874Z"
   },
   {
    "duration": 376,
    "start_time": "2023-07-12T12:35:02.918Z"
   },
   {
    "duration": 257,
    "start_time": "2023-07-12T12:35:03.295Z"
   },
   {
    "duration": 291,
    "start_time": "2023-07-12T12:35:03.554Z"
   },
   {
    "duration": 8,
    "start_time": "2023-07-12T12:35:03.847Z"
   },
   {
    "duration": 21,
    "start_time": "2023-07-12T12:35:03.858Z"
   },
   {
    "duration": 16,
    "start_time": "2023-07-12T12:35:03.882Z"
   },
   {
    "duration": 946,
    "start_time": "2023-07-12T12:35:03.900Z"
   },
   {
    "duration": 5,
    "start_time": "2023-07-12T12:35:04.847Z"
   },
   {
    "duration": 50,
    "start_time": "2023-07-12T12:35:04.854Z"
   },
   {
    "duration": 701,
    "start_time": "2023-07-12T12:35:05.001Z"
   },
   {
    "duration": 1299,
    "start_time": "2023-07-12T12:35:05.704Z"
   },
   {
    "duration": 4,
    "start_time": "2023-07-12T12:35:07.005Z"
   },
   {
    "duration": 140,
    "start_time": "2023-07-12T12:35:07.011Z"
   },
   {
    "duration": 3953,
    "start_time": "2023-07-12T12:35:07.153Z"
   },
   {
    "duration": 6,
    "start_time": "2023-07-12T12:35:11.108Z"
   },
   {
    "duration": 14,
    "start_time": "2023-07-12T12:35:11.116Z"
   },
   {
    "duration": 79,
    "start_time": "2023-07-12T12:35:11.132Z"
   },
   {
    "duration": 115,
    "start_time": "2023-07-12T12:35:11.213Z"
   },
   {
    "duration": 6,
    "start_time": "2023-07-12T12:36:07.157Z"
   },
   {
    "duration": 6,
    "start_time": "2023-07-12T12:36:07.515Z"
   },
   {
    "duration": 13,
    "start_time": "2023-07-12T12:36:07.708Z"
   },
   {
    "duration": 2343,
    "start_time": "2023-07-13T17:06:38.530Z"
   },
   {
    "duration": 2016,
    "start_time": "2023-07-13T17:06:42.510Z"
   },
   {
    "duration": 20,
    "start_time": "2023-07-13T17:06:44.528Z"
   },
   {
    "duration": 8,
    "start_time": "2023-07-13T17:06:44.549Z"
   },
   {
    "duration": 28,
    "start_time": "2023-07-13T17:06:44.559Z"
   },
   {
    "duration": 16,
    "start_time": "2023-07-13T17:06:44.589Z"
   },
   {
    "duration": 17,
    "start_time": "2023-07-13T17:06:44.607Z"
   },
   {
    "duration": 11,
    "start_time": "2023-07-13T17:06:44.626Z"
   },
   {
    "duration": 9,
    "start_time": "2023-07-13T17:06:44.638Z"
   },
   {
    "duration": 365,
    "start_time": "2023-07-13T17:06:44.648Z"
   },
   {
    "duration": 247,
    "start_time": "2023-07-13T17:06:45.016Z"
   },
   {
    "duration": 286,
    "start_time": "2023-07-13T17:06:45.265Z"
   },
   {
    "duration": 12,
    "start_time": "2023-07-13T17:06:45.553Z"
   },
   {
    "duration": 15,
    "start_time": "2023-07-13T17:06:45.567Z"
   },
   {
    "duration": 3,
    "start_time": "2023-07-13T17:06:45.584Z"
   },
   {
    "duration": 906,
    "start_time": "2023-07-13T17:06:45.588Z"
   },
   {
    "duration": 4,
    "start_time": "2023-07-13T17:06:46.496Z"
   },
   {
    "duration": 62,
    "start_time": "2023-07-13T17:06:46.501Z"
   },
   {
    "duration": 1095,
    "start_time": "2023-07-13T17:06:46.564Z"
   },
   {
    "duration": 1397,
    "start_time": "2023-07-13T17:06:47.665Z"
   },
   {
    "duration": 290,
    "start_time": "2023-07-13T17:06:49.063Z"
   },
   {
    "duration": 0,
    "start_time": "2023-07-13T17:06:49.354Z"
   },
   {
    "duration": 0,
    "start_time": "2023-07-13T17:06:49.358Z"
   },
   {
    "duration": 0,
    "start_time": "2023-07-13T17:06:49.360Z"
   },
   {
    "duration": 0,
    "start_time": "2023-07-13T17:06:49.361Z"
   },
   {
    "duration": 0,
    "start_time": "2023-07-13T17:06:49.362Z"
   },
   {
    "duration": 0,
    "start_time": "2023-07-13T17:06:49.363Z"
   },
   {
    "duration": 0,
    "start_time": "2023-07-13T17:06:49.364Z"
   },
   {
    "duration": 1913,
    "start_time": "2023-07-13T17:07:11.495Z"
   },
   {
    "duration": 12,
    "start_time": "2023-07-13T17:07:13.410Z"
   },
   {
    "duration": 7,
    "start_time": "2023-07-13T17:07:13.424Z"
   },
   {
    "duration": 14,
    "start_time": "2023-07-13T17:07:13.432Z"
   },
   {
    "duration": 7,
    "start_time": "2023-07-13T17:07:13.448Z"
   },
   {
    "duration": 14,
    "start_time": "2023-07-13T17:07:13.456Z"
   },
   {
    "duration": 4,
    "start_time": "2023-07-13T17:07:13.472Z"
   },
   {
    "duration": 9,
    "start_time": "2023-07-13T17:07:13.478Z"
   },
   {
    "duration": 324,
    "start_time": "2023-07-13T17:07:13.489Z"
   },
   {
    "duration": 233,
    "start_time": "2023-07-13T17:07:13.815Z"
   },
   {
    "duration": 326,
    "start_time": "2023-07-13T17:07:14.059Z"
   },
   {
    "duration": 8,
    "start_time": "2023-07-13T17:07:14.387Z"
   },
   {
    "duration": 15,
    "start_time": "2023-07-13T17:07:14.396Z"
   },
   {
    "duration": 7,
    "start_time": "2023-07-13T17:07:14.413Z"
   },
   {
    "duration": 896,
    "start_time": "2023-07-13T17:07:14.422Z"
   },
   {
    "duration": 5,
    "start_time": "2023-07-13T17:07:15.319Z"
   },
   {
    "duration": 134,
    "start_time": "2023-07-13T17:07:15.325Z"
   },
   {
    "duration": 802,
    "start_time": "2023-07-13T17:07:15.463Z"
   },
   {
    "duration": 1195,
    "start_time": "2023-07-13T17:07:16.267Z"
   },
   {
    "duration": 292,
    "start_time": "2023-07-13T17:07:17.464Z"
   },
   {
    "duration": 0,
    "start_time": "2023-07-13T17:07:17.759Z"
   },
   {
    "duration": 0,
    "start_time": "2023-07-13T17:07:17.760Z"
   },
   {
    "duration": 0,
    "start_time": "2023-07-13T17:07:17.761Z"
   },
   {
    "duration": 0,
    "start_time": "2023-07-13T17:07:17.762Z"
   },
   {
    "duration": 0,
    "start_time": "2023-07-13T17:07:17.763Z"
   },
   {
    "duration": 0,
    "start_time": "2023-07-13T17:07:17.764Z"
   },
   {
    "duration": 0,
    "start_time": "2023-07-13T17:07:17.765Z"
   },
   {
    "duration": 23,
    "start_time": "2023-07-13T17:07:40.466Z"
   },
   {
    "duration": 6,
    "start_time": "2023-07-13T17:11:07.517Z"
   },
   {
    "duration": 5,
    "start_time": "2023-07-13T17:11:08.231Z"
   },
   {
    "duration": 99,
    "start_time": "2023-07-13T17:11:08.954Z"
   },
   {
    "duration": 66,
    "start_time": "2023-07-13T17:11:24.270Z"
   },
   {
    "duration": 257,
    "start_time": "2023-07-13T17:11:29.125Z"
   },
   {
    "duration": 145,
    "start_time": "2023-07-13T17:12:06.331Z"
   },
   {
    "duration": 1751,
    "start_time": "2023-07-13T17:12:51.419Z"
   },
   {
    "duration": 7647,
    "start_time": "2023-07-13T17:13:03.347Z"
   },
   {
    "duration": 9338,
    "start_time": "2023-07-13T17:13:14.905Z"
   },
   {
    "duration": 9,
    "start_time": "2023-07-13T17:13:32.755Z"
   },
   {
    "duration": 7,
    "start_time": "2023-07-13T17:13:32.918Z"
   },
   {
    "duration": 50593,
    "start_time": "2023-07-13T17:13:33.173Z"
   },
   {
    "duration": 7,
    "start_time": "2023-07-13T17:14:47.364Z"
   },
   {
    "duration": 5,
    "start_time": "2023-07-13T17:14:47.641Z"
   },
   {
    "duration": 172908,
    "start_time": "2023-07-13T17:14:47.967Z"
   },
   {
    "duration": 7,
    "start_time": "2023-07-13T17:18:48.532Z"
   },
   {
    "duration": 5,
    "start_time": "2023-07-13T17:18:48.702Z"
   },
   {
    "duration": 4163,
    "start_time": "2023-07-13T17:18:48.893Z"
   },
   {
    "duration": 8,
    "start_time": "2023-07-13T17:19:09.016Z"
   },
   {
    "duration": 6,
    "start_time": "2023-07-13T17:19:09.979Z"
   },
   {
    "duration": 41643,
    "start_time": "2023-07-13T17:19:11.035Z"
   },
   {
    "duration": 9,
    "start_time": "2023-07-13T17:19:57.473Z"
   },
   {
    "duration": 16,
    "start_time": "2023-07-13T17:19:57.657Z"
   },
   {
    "duration": 10876,
    "start_time": "2023-07-13T17:19:57.837Z"
   },
   {
    "duration": 7,
    "start_time": "2023-07-13T17:20:13.145Z"
   },
   {
    "duration": 5,
    "start_time": "2023-07-13T17:20:13.309Z"
   },
   {
    "duration": 25607,
    "start_time": "2023-07-13T17:20:13.455Z"
   },
   {
    "duration": 5,
    "start_time": "2023-07-13T17:20:40.236Z"
   },
   {
    "duration": 11,
    "start_time": "2023-07-13T17:20:45.835Z"
   },
   {
    "duration": 8,
    "start_time": "2023-07-13T17:20:52.805Z"
   },
   {
    "duration": 7,
    "start_time": "2023-07-13T17:21:38.613Z"
   },
   {
    "duration": 5,
    "start_time": "2023-07-13T17:21:38.790Z"
   },
   {
    "duration": 13968,
    "start_time": "2023-07-13T17:21:39.014Z"
   },
   {
    "duration": 4,
    "start_time": "2023-07-13T17:22:04.546Z"
   },
   {
    "duration": 10,
    "start_time": "2023-07-13T17:22:04.787Z"
   },
   {
    "duration": 3752,
    "start_time": "2023-07-13T17:22:05.088Z"
   },
   {
    "duration": 6,
    "start_time": "2023-07-13T17:22:08.842Z"
   },
   {
    "duration": 25,
    "start_time": "2023-07-13T17:22:08.849Z"
   },
   {
    "duration": 6,
    "start_time": "2023-07-13T17:22:08.877Z"
   },
   {
    "duration": 86,
    "start_time": "2023-07-13T17:22:08.884Z"
   },
   {
    "duration": 2069,
    "start_time": "2023-07-13T17:22:56.973Z"
   },
   {
    "duration": 28,
    "start_time": "2023-07-13T17:22:59.044Z"
   },
   {
    "duration": 7,
    "start_time": "2023-07-13T17:22:59.074Z"
   },
   {
    "duration": 8,
    "start_time": "2023-07-13T17:22:59.083Z"
   },
   {
    "duration": 6,
    "start_time": "2023-07-13T17:22:59.093Z"
   },
   {
    "duration": 4,
    "start_time": "2023-07-13T17:22:59.100Z"
   },
   {
    "duration": 4,
    "start_time": "2023-07-13T17:22:59.106Z"
   },
   {
    "duration": 13,
    "start_time": "2023-07-13T17:22:59.112Z"
   },
   {
    "duration": 371,
    "start_time": "2023-07-13T17:22:59.126Z"
   },
   {
    "duration": 321,
    "start_time": "2023-07-13T17:22:59.498Z"
   },
   {
    "duration": 283,
    "start_time": "2023-07-13T17:22:59.821Z"
   },
   {
    "duration": 9,
    "start_time": "2023-07-13T17:23:00.106Z"
   },
   {
    "duration": 30,
    "start_time": "2023-07-13T17:23:00.116Z"
   },
   {
    "duration": 35,
    "start_time": "2023-07-13T17:23:00.149Z"
   },
   {
    "duration": 40,
    "start_time": "2023-07-13T17:23:00.186Z"
   },
   {
    "duration": 1053,
    "start_time": "2023-07-13T17:23:00.228Z"
   },
   {
    "duration": 4,
    "start_time": "2023-07-13T17:23:01.283Z"
   },
   {
    "duration": 37,
    "start_time": "2023-07-13T17:23:01.289Z"
   },
   {
    "duration": 1037,
    "start_time": "2023-07-13T17:23:01.328Z"
   },
   {
    "duration": 1017,
    "start_time": "2023-07-13T17:23:02.366Z"
   },
   {
    "duration": 15,
    "start_time": "2023-07-13T17:23:03.462Z"
   },
   {
    "duration": 5,
    "start_time": "2023-07-13T17:23:03.479Z"
   },
   {
    "duration": 18098,
    "start_time": "2023-07-13T17:23:03.485Z"
   },
   {
    "duration": 83,
    "start_time": "2023-07-13T17:23:21.585Z"
   },
   {
    "duration": 18,
    "start_time": "2023-07-13T17:23:21.670Z"
   },
   {
    "duration": 3787,
    "start_time": "2023-07-13T17:23:21.689Z"
   },
   {
    "duration": 6,
    "start_time": "2023-07-13T17:23:25.477Z"
   },
   {
    "duration": 20,
    "start_time": "2023-07-13T17:23:25.485Z"
   },
   {
    "duration": 63,
    "start_time": "2023-07-13T17:23:25.506Z"
   },
   {
    "duration": 12,
    "start_time": "2023-07-13T17:23:25.571Z"
   },
   {
    "duration": 36394,
    "start_time": "2023-07-13T17:23:50.779Z"
   },
   {
    "duration": 4,
    "start_time": "2023-07-13T17:24:27.176Z"
   },
   {
    "duration": 14,
    "start_time": "2023-07-13T17:24:27.181Z"
   },
   {
    "duration": 8,
    "start_time": "2023-07-13T17:24:38.825Z"
   },
   {
    "duration": 7,
    "start_time": "2023-07-13T17:24:39.003Z"
   },
   {
    "duration": 35640,
    "start_time": "2023-07-13T17:24:39.229Z"
   },
   {
    "duration": 7,
    "start_time": "2023-07-13T17:25:25.740Z"
   },
   {
    "duration": 6,
    "start_time": "2023-07-13T17:25:25.927Z"
   },
   {
    "duration": 36686,
    "start_time": "2023-07-13T17:25:26.281Z"
   },
   {
    "duration": 9,
    "start_time": "2023-07-13T17:26:15.353Z"
   },
   {
    "duration": 6,
    "start_time": "2023-07-13T17:26:15.536Z"
   },
   {
    "duration": 37449,
    "start_time": "2023-07-13T17:26:15.721Z"
   },
   {
    "duration": 6,
    "start_time": "2023-07-13T17:27:00.600Z"
   },
   {
    "duration": 6,
    "start_time": "2023-07-13T17:27:00.769Z"
   },
   {
    "duration": 19844,
    "start_time": "2023-07-13T17:27:00.933Z"
   },
   {
    "duration": 8,
    "start_time": "2023-07-13T17:27:25.753Z"
   },
   {
    "duration": 5,
    "start_time": "2023-07-13T17:27:25.929Z"
   },
   {
    "duration": 9241,
    "start_time": "2023-07-13T17:27:26.102Z"
   },
   {
    "duration": 7,
    "start_time": "2023-07-13T17:27:40.650Z"
   },
   {
    "duration": 5,
    "start_time": "2023-07-13T17:27:40.848Z"
   },
   {
    "duration": 19247,
    "start_time": "2023-07-13T17:27:41.017Z"
   },
   {
    "duration": 8,
    "start_time": "2023-07-13T17:28:07.453Z"
   },
   {
    "duration": 5,
    "start_time": "2023-07-13T17:28:07.791Z"
   },
   {
    "duration": 19320,
    "start_time": "2023-07-13T17:28:08.152Z"
   },
   {
    "duration": 11591,
    "start_time": "2023-07-13T17:28:42.285Z"
   },
   {
    "duration": 7,
    "start_time": "2023-07-13T17:28:56.321Z"
   },
   {
    "duration": 5,
    "start_time": "2023-07-13T17:28:56.550Z"
   },
   {
    "duration": 35406,
    "start_time": "2023-07-13T17:28:56.865Z"
   },
   {
    "duration": 7,
    "start_time": "2023-07-13T17:30:07.394Z"
   },
   {
    "duration": 5,
    "start_time": "2023-07-13T17:30:07.630Z"
   },
   {
    "duration": 66770,
    "start_time": "2023-07-13T17:30:08.104Z"
   },
   {
    "duration": 7,
    "start_time": "2023-07-13T17:31:38.543Z"
   },
   {
    "duration": 5,
    "start_time": "2023-07-13T17:31:38.759Z"
   },
   {
    "duration": 34812,
    "start_time": "2023-07-13T17:31:38.963Z"
   },
   {
    "duration": 8,
    "start_time": "2023-07-13T17:32:35.875Z"
   },
   {
    "duration": 5,
    "start_time": "2023-07-13T17:32:36.059Z"
   },
   {
    "duration": 19441,
    "start_time": "2023-07-13T17:32:36.234Z"
   },
   {
    "duration": 8,
    "start_time": "2023-07-13T17:33:10.280Z"
   },
   {
    "duration": 8,
    "start_time": "2023-07-13T17:33:10.469Z"
   },
   {
    "duration": 16247,
    "start_time": "2023-07-13T17:33:10.646Z"
   },
   {
    "duration": 6,
    "start_time": "2023-07-13T17:33:35.101Z"
   },
   {
    "duration": 8,
    "start_time": "2023-07-13T17:33:40.319Z"
   },
   {
    "duration": 5,
    "start_time": "2023-07-13T17:33:40.499Z"
   },
   {
    "duration": 20173,
    "start_time": "2023-07-13T17:33:40.702Z"
   },
   {
    "duration": 7,
    "start_time": "2023-07-13T17:34:09.261Z"
   },
   {
    "duration": 6,
    "start_time": "2023-07-13T17:34:09.502Z"
   },
   {
    "duration": 20046,
    "start_time": "2023-07-13T17:34:09.726Z"
   },
   {
    "duration": 9,
    "start_time": "2023-07-13T17:34:34.260Z"
   },
   {
    "duration": 5,
    "start_time": "2023-07-13T17:34:34.441Z"
   },
   {
    "duration": 19239,
    "start_time": "2023-07-13T17:34:34.636Z"
   },
   {
    "duration": 7,
    "start_time": "2023-07-13T17:34:56.971Z"
   },
   {
    "duration": 5,
    "start_time": "2023-07-13T17:34:57.191Z"
   },
   {
    "duration": 20159,
    "start_time": "2023-07-13T17:34:57.421Z"
   },
   {
    "duration": 7,
    "start_time": "2023-07-13T17:35:29.754Z"
   },
   {
    "duration": 5,
    "start_time": "2023-07-13T17:35:29.918Z"
   },
   {
    "duration": 29806,
    "start_time": "2023-07-13T17:35:30.156Z"
   },
   {
    "duration": 8,
    "start_time": "2023-07-13T17:37:19.900Z"
   },
   {
    "duration": 6,
    "start_time": "2023-07-13T17:37:20.026Z"
   },
   {
    "duration": 19734,
    "start_time": "2023-07-13T17:37:20.219Z"
   },
   {
    "duration": 7,
    "start_time": "2023-07-13T17:37:44.197Z"
   },
   {
    "duration": 7,
    "start_time": "2023-07-13T17:37:44.367Z"
   },
   {
    "duration": 56605,
    "start_time": "2023-07-13T17:37:44.558Z"
   },
   {
    "duration": 1001,
    "start_time": "2023-07-13T17:39:15.167Z"
   },
   {
    "duration": 14,
    "start_time": "2023-07-13T17:39:32.458Z"
   },
   {
    "duration": 6,
    "start_time": "2023-07-13T17:39:32.622Z"
   },
   {
    "duration": 6712,
    "start_time": "2023-07-13T17:39:32.843Z"
   },
   {
    "duration": 9823,
    "start_time": "2023-07-13T17:41:13.406Z"
   },
   {
    "duration": 5,
    "start_time": "2023-07-13T17:41:35.690Z"
   },
   {
    "duration": 1809,
    "start_time": "2023-07-13T17:41:35.875Z"
   },
   {
    "duration": 8,
    "start_time": "2023-07-13T17:41:40.099Z"
   },
   {
    "duration": 6,
    "start_time": "2023-07-13T17:41:40.263Z"
   },
   {
    "duration": 38320,
    "start_time": "2023-07-13T17:41:40.452Z"
   },
   {
    "duration": 3,
    "start_time": "2023-07-13T17:43:03.882Z"
   },
   {
    "duration": 3,
    "start_time": "2023-07-13T17:43:07.823Z"
   },
   {
    "duration": 5,
    "start_time": "2023-07-13T17:43:16.300Z"
   },
   {
    "duration": 5,
    "start_time": "2023-07-13T17:43:18.092Z"
   },
   {
    "duration": 8,
    "start_time": "2023-07-13T17:44:37.262Z"
   },
   {
    "duration": 10,
    "start_time": "2023-07-13T17:44:53.086Z"
   },
   {
    "duration": 18,
    "start_time": "2023-07-13T17:56:43.425Z"
   },
   {
    "duration": 0,
    "start_time": "2023-07-13T17:56:47.412Z"
   },
   {
    "duration": 0,
    "start_time": "2023-07-13T17:56:47.413Z"
   },
   {
    "duration": 0,
    "start_time": "2023-07-13T17:56:47.414Z"
   },
   {
    "duration": 0,
    "start_time": "2023-07-13T17:56:47.416Z"
   },
   {
    "duration": 3,
    "start_time": "2023-07-13T17:56:49.038Z"
   },
   {
    "duration": 21,
    "start_time": "2023-07-13T17:56:49.194Z"
   },
   {
    "duration": 3562,
    "start_time": "2023-07-13T17:56:49.394Z"
   },
   {
    "duration": 0,
    "start_time": "2023-07-13T17:56:52.958Z"
   },
   {
    "duration": 0,
    "start_time": "2023-07-13T17:56:52.959Z"
   },
   {
    "duration": 4,
    "start_time": "2023-07-13T17:56:55.953Z"
   },
   {
    "duration": 22,
    "start_time": "2023-07-13T17:56:56.088Z"
   },
   {
    "duration": 3597,
    "start_time": "2023-07-13T17:56:56.245Z"
   },
   {
    "duration": 4,
    "start_time": "2023-07-13T17:57:05.780Z"
   },
   {
    "duration": 9,
    "start_time": "2023-07-13T17:57:05.961Z"
   },
   {
    "duration": 3642,
    "start_time": "2023-07-13T17:57:06.117Z"
   },
   {
    "duration": 6,
    "start_time": "2023-07-13T17:57:09.761Z"
   },
   {
    "duration": 5,
    "start_time": "2023-07-13T17:57:09.769Z"
   },
   {
    "duration": 11,
    "start_time": "2023-07-13T17:57:09.776Z"
   },
   {
    "duration": 11,
    "start_time": "2023-07-13T17:57:09.859Z"
   },
   {
    "duration": 5,
    "start_time": "2023-07-13T17:57:54.559Z"
   },
   {
    "duration": 17,
    "start_time": "2023-07-13T17:58:19.312Z"
   },
   {
    "duration": 57,
    "start_time": "2023-07-13T17:58:45.886Z"
   },
   {
    "duration": 4,
    "start_time": "2023-07-13T17:58:51.292Z"
   },
   {
    "duration": 19,
    "start_time": "2023-07-13T17:58:51.575Z"
   },
   {
    "duration": 55,
    "start_time": "2023-07-13T17:59:38.074Z"
   },
   {
    "duration": 62,
    "start_time": "2023-07-13T18:00:04.625Z"
   },
   {
    "duration": 52,
    "start_time": "2023-07-13T18:00:23.166Z"
   },
   {
    "duration": 60,
    "start_time": "2023-07-13T18:00:38.221Z"
   },
   {
    "duration": 4,
    "start_time": "2023-07-13T18:00:52.318Z"
   },
   {
    "duration": 55,
    "start_time": "2023-07-13T18:01:14.791Z"
   },
   {
    "duration": 13,
    "start_time": "2023-07-13T18:01:14.848Z"
   },
   {
    "duration": 9,
    "start_time": "2023-07-13T18:01:14.863Z"
   },
   {
    "duration": 19,
    "start_time": "2023-07-13T18:01:14.873Z"
   },
   {
    "duration": 7,
    "start_time": "2023-07-13T18:01:14.894Z"
   },
   {
    "duration": 5,
    "start_time": "2023-07-13T18:01:14.902Z"
   },
   {
    "duration": 5,
    "start_time": "2023-07-13T18:01:14.909Z"
   },
   {
    "duration": 10,
    "start_time": "2023-07-13T18:01:14.916Z"
   },
   {
    "duration": 266,
    "start_time": "2023-07-13T18:01:14.929Z"
   },
   {
    "duration": 270,
    "start_time": "2023-07-13T18:01:15.197Z"
   },
   {
    "duration": 290,
    "start_time": "2023-07-13T18:01:15.469Z"
   },
   {
    "duration": 8,
    "start_time": "2023-07-13T18:01:15.761Z"
   },
   {
    "duration": 14,
    "start_time": "2023-07-13T18:01:15.772Z"
   },
   {
    "duration": 237,
    "start_time": "2023-07-13T18:01:20.169Z"
   },
   {
    "duration": 8,
    "start_time": "2023-07-13T18:07:02.137Z"
   },
   {
    "duration": 7,
    "start_time": "2023-07-13T18:09:50.703Z"
   },
   {
    "duration": 2343,
    "start_time": "2023-07-14T11:47:46.703Z"
   },
   {
    "duration": 29,
    "start_time": "2023-07-14T11:47:49.048Z"
   },
   {
    "duration": 8,
    "start_time": "2023-07-14T11:47:49.079Z"
   },
   {
    "duration": 24,
    "start_time": "2023-07-14T11:47:49.089Z"
   },
   {
    "duration": 229,
    "start_time": "2023-07-14T11:55:27.107Z"
   },
   {
    "duration": 8,
    "start_time": "2023-07-14T11:56:00.737Z"
   },
   {
    "duration": 45,
    "start_time": "2023-07-14T11:56:01.837Z"
   },
   {
    "duration": 20,
    "start_time": "2023-07-14T11:56:18.690Z"
   },
   {
    "duration": 577,
    "start_time": "2023-07-14T11:56:35.138Z"
   },
   {
    "duration": 525,
    "start_time": "2023-07-14T11:56:48.074Z"
   },
   {
    "duration": 798,
    "start_time": "2023-07-14T11:56:54.286Z"
   },
   {
    "duration": 769,
    "start_time": "2023-07-14T11:57:17.346Z"
   },
   {
    "duration": 753,
    "start_time": "2023-07-14T11:59:34.581Z"
   },
   {
    "duration": 243,
    "start_time": "2023-07-14T11:59:49.549Z"
   },
   {
    "duration": 693,
    "start_time": "2023-07-14T12:00:22.901Z"
   },
   {
    "duration": 760,
    "start_time": "2023-07-14T12:01:44.608Z"
   },
   {
    "duration": 873,
    "start_time": "2023-07-14T12:01:56.367Z"
   },
   {
    "duration": 723,
    "start_time": "2023-07-14T12:02:14.192Z"
   },
   {
    "duration": 50,
    "start_time": "2023-07-14T12:02:44.283Z"
   },
   {
    "duration": 12,
    "start_time": "2023-07-14T12:02:46.510Z"
   },
   {
    "duration": 4,
    "start_time": "2023-07-14T12:02:57.170Z"
   },
   {
    "duration": 6,
    "start_time": "2023-07-14T12:02:57.344Z"
   },
   {
    "duration": 243,
    "start_time": "2023-07-14T12:02:57.947Z"
   },
   {
    "duration": 1389,
    "start_time": "2023-07-14T12:02:58.921Z"
   },
   {
    "duration": 0,
    "start_time": "2023-07-14T12:03:00.312Z"
   },
   {
    "duration": 1476,
    "start_time": "2023-07-14T12:03:22.927Z"
   },
   {
    "duration": 4,
    "start_time": "2023-07-14T12:03:29.539Z"
   },
   {
    "duration": 51,
    "start_time": "2023-07-14T12:03:47.439Z"
   },
   {
    "duration": 12,
    "start_time": "2023-07-14T12:03:47.492Z"
   },
   {
    "duration": 21,
    "start_time": "2023-07-14T12:03:47.506Z"
   },
   {
    "duration": 69,
    "start_time": "2023-07-14T12:03:47.529Z"
   },
   {
    "duration": 2,
    "start_time": "2023-07-14T12:03:47.601Z"
   },
   {
    "duration": 23,
    "start_time": "2023-07-14T12:03:47.605Z"
   },
   {
    "duration": 248,
    "start_time": "2023-07-14T12:03:47.630Z"
   },
   {
    "duration": 6,
    "start_time": "2023-07-14T12:03:47.879Z"
   },
   {
    "duration": 237,
    "start_time": "2023-07-14T12:03:47.886Z"
   },
   {
    "duration": 277,
    "start_time": "2023-07-14T12:03:48.124Z"
   },
   {
    "duration": 24,
    "start_time": "2023-07-14T12:05:19.992Z"
   },
   {
    "duration": 24,
    "start_time": "2023-07-14T12:05:22.124Z"
   },
   {
    "duration": 22,
    "start_time": "2023-07-14T12:05:26.796Z"
   },
   {
    "duration": 471,
    "start_time": "2023-07-14T12:05:29.192Z"
   },
   {
    "duration": 726,
    "start_time": "2023-07-14T12:05:31.193Z"
   },
   {
    "duration": 553,
    "start_time": "2023-07-14T12:05:33.422Z"
   },
   {
    "duration": 711,
    "start_time": "2023-07-14T12:05:37.289Z"
   },
   {
    "duration": 246,
    "start_time": "2023-07-14T12:06:53.658Z"
   },
   {
    "duration": 247,
    "start_time": "2023-07-14T12:07:12.376Z"
   },
   {
    "duration": 421,
    "start_time": "2023-07-14T12:07:37.128Z"
   },
   {
    "duration": 33,
    "start_time": "2023-07-14T12:09:33.272Z"
   },
   {
    "duration": 571,
    "start_time": "2023-07-14T12:09:41.831Z"
   },
   {
    "duration": 49,
    "start_time": "2023-07-14T12:09:52.803Z"
   },
   {
    "duration": 12,
    "start_time": "2023-07-14T12:09:52.854Z"
   },
   {
    "duration": 34,
    "start_time": "2023-07-14T12:09:52.868Z"
   },
   {
    "duration": 59,
    "start_time": "2023-07-14T12:09:52.904Z"
   },
   {
    "duration": 5,
    "start_time": "2023-07-14T12:09:52.966Z"
   },
   {
    "duration": 127,
    "start_time": "2023-07-14T12:09:52.973Z"
   },
   {
    "duration": 258,
    "start_time": "2023-07-14T12:09:53.101Z"
   },
   {
    "duration": 243,
    "start_time": "2023-07-14T12:09:53.361Z"
   },
   {
    "duration": 274,
    "start_time": "2023-07-14T12:09:53.606Z"
   },
   {
    "duration": 3,
    "start_time": "2023-07-14T12:09:53.882Z"
   },
   {
    "duration": 419,
    "start_time": "2023-07-14T12:09:53.886Z"
   },
   {
    "duration": 382,
    "start_time": "2023-07-14T12:10:39.236Z"
   },
   {
    "duration": 407,
    "start_time": "2023-07-14T12:10:42.928Z"
   },
   {
    "duration": 384,
    "start_time": "2023-07-14T12:10:44.618Z"
   },
   {
    "duration": 391,
    "start_time": "2023-07-14T12:10:59.806Z"
   },
   {
    "duration": 405,
    "start_time": "2023-07-14T12:11:16.549Z"
   },
   {
    "duration": 2027,
    "start_time": "2023-07-14T12:18:06.813Z"
   },
   {
    "duration": 17,
    "start_time": "2023-07-14T12:18:08.843Z"
   },
   {
    "duration": 13,
    "start_time": "2023-07-14T12:18:08.862Z"
   },
   {
    "duration": 80,
    "start_time": "2023-07-14T12:18:08.877Z"
   },
   {
    "duration": 3,
    "start_time": "2023-07-14T12:18:08.960Z"
   },
   {
    "duration": 25,
    "start_time": "2023-07-14T12:18:08.965Z"
   },
   {
    "duration": 364,
    "start_time": "2023-07-14T12:18:08.993Z"
   },
   {
    "duration": 232,
    "start_time": "2023-07-14T12:18:09.359Z"
   },
   {
    "duration": 271,
    "start_time": "2023-07-14T12:18:09.592Z"
   },
   {
    "duration": 2,
    "start_time": "2023-07-14T12:18:09.865Z"
   },
   {
    "duration": 429,
    "start_time": "2023-07-14T12:18:09.869Z"
   },
   {
    "duration": 13,
    "start_time": "2023-07-14T12:18:10.300Z"
   },
   {
    "duration": 15,
    "start_time": "2023-07-14T12:18:10.314Z"
   },
   {
    "duration": 41,
    "start_time": "2023-07-14T12:18:10.332Z"
   },
   {
    "duration": 3,
    "start_time": "2023-07-14T12:18:10.374Z"
   },
   {
    "duration": 2434,
    "start_time": "2023-07-14T12:18:10.379Z"
   },
   {
    "duration": 4,
    "start_time": "2023-07-14T12:18:12.815Z"
   },
   {
    "duration": 44,
    "start_time": "2023-07-14T12:18:12.821Z"
   },
   {
    "duration": 1396,
    "start_time": "2023-07-14T12:18:12.868Z"
   },
   {
    "duration": 7091,
    "start_time": "2023-07-14T12:18:14.266Z"
   },
   {
    "duration": 104,
    "start_time": "2023-07-14T12:18:21.359Z"
   },
   {
    "duration": 5,
    "start_time": "2023-07-14T12:18:21.465Z"
   },
   {
    "duration": 1000,
    "start_time": "2023-07-14T12:18:21.471Z"
   },
   {
    "duration": 3,
    "start_time": "2023-07-14T12:18:22.473Z"
   },
   {
    "duration": 30,
    "start_time": "2023-07-14T12:18:22.477Z"
   },
   {
    "duration": 31,
    "start_time": "2023-07-14T12:18:22.508Z"
   },
   {
    "duration": 12890,
    "start_time": "2023-07-14T12:18:22.557Z"
   },
   {
    "duration": 108,
    "start_time": "2023-07-14T12:18:35.449Z"
   },
   {
    "duration": 98,
    "start_time": "2023-07-14T12:18:35.559Z"
   },
   {
    "duration": 10,
    "start_time": "2023-07-14T12:18:35.659Z"
   },
   {
    "duration": 95,
    "start_time": "2023-07-14T12:18:35.671Z"
   },
   {
    "duration": 403,
    "start_time": "2023-07-14T12:18:35.768Z"
   },
   {
    "duration": 51,
    "start_time": "2023-07-14T12:29:56.318Z"
   },
   {
    "duration": 13426,
    "start_time": "2023-07-14T12:29:56.509Z"
   },
   {
    "duration": 124,
    "start_time": "2023-07-14T12:30:09.938Z"
   },
   {
    "duration": 8,
    "start_time": "2023-07-14T12:30:10.156Z"
   },
   {
    "duration": 95,
    "start_time": "2023-07-14T12:30:10.166Z"
   },
   {
    "duration": 101,
    "start_time": "2023-07-14T12:30:10.264Z"
   },
   {
    "duration": 6455,
    "start_time": "2023-07-14T12:30:23.754Z"
   },
   {
    "duration": 0,
    "start_time": "2023-07-14T12:30:30.212Z"
   },
   {
    "duration": 13,
    "start_time": "2023-07-14T12:30:37.028Z"
   },
   {
    "duration": 9,
    "start_time": "2023-07-14T12:30:37.227Z"
   },
   {
    "duration": 28172,
    "start_time": "2023-07-14T12:30:37.716Z"
   },
   {
    "duration": 8,
    "start_time": "2023-07-14T12:31:11.503Z"
   },
   {
    "duration": 4,
    "start_time": "2023-07-14T12:31:17.031Z"
   },
   {
    "duration": 9,
    "start_time": "2023-07-14T12:31:19.470Z"
   },
   {
    "duration": 317,
    "start_time": "2023-07-14T12:31:27.697Z"
   },
   {
    "duration": 4,
    "start_time": "2023-07-14T13:13:43.571Z"
   },
   {
    "duration": 16,
    "start_time": "2023-07-14T13:13:46.744Z"
   },
   {
    "duration": 56,
    "start_time": "2023-07-14T13:14:02.426Z"
   },
   {
    "duration": 4,
    "start_time": "2023-07-14T13:14:07.176Z"
   },
   {
    "duration": 1590,
    "start_time": "2023-07-14T13:14:08.969Z"
   },
   {
    "duration": 189,
    "start_time": "2023-07-14T13:14:14.971Z"
   },
   {
    "duration": 966,
    "start_time": "2023-07-14T13:14:17.094Z"
   },
   {
    "duration": 4197,
    "start_time": "2023-07-14T13:14:25.464Z"
   },
   {
    "duration": 5710,
    "start_time": "2023-07-14T13:14:49.246Z"
   },
   {
    "duration": 10,
    "start_time": "2023-07-14T13:14:56.445Z"
   },
   {
    "duration": 6,
    "start_time": "2023-07-14T13:14:56.601Z"
   },
   {
    "duration": 13271,
    "start_time": "2023-07-14T13:14:56.793Z"
   },
   {
    "duration": 8,
    "start_time": "2023-07-14T13:15:16.313Z"
   },
   {
    "duration": 5,
    "start_time": "2023-07-14T13:15:16.438Z"
   },
   {
    "duration": 9584,
    "start_time": "2023-07-14T13:15:16.591Z"
   },
   {
    "duration": 4,
    "start_time": "2023-07-14T13:15:26.177Z"
   },
   {
    "duration": 3,
    "start_time": "2023-07-14T13:15:29.457Z"
   },
   {
    "duration": 51,
    "start_time": "2023-07-14T13:15:29.680Z"
   },
   {
    "duration": 13367,
    "start_time": "2023-07-14T13:15:30.202Z"
   },
   {
    "duration": 97,
    "start_time": "2023-07-14T13:15:43.571Z"
   },
   {
    "duration": 102,
    "start_time": "2023-07-14T13:15:43.670Z"
   },
   {
    "duration": 96,
    "start_time": "2023-07-14T13:15:43.774Z"
   },
   {
    "duration": 85,
    "start_time": "2023-07-14T13:15:43.874Z"
   },
   {
    "duration": 4,
    "start_time": "2023-07-14T13:20:07.958Z"
   },
   {
    "duration": 189,
    "start_time": "2023-07-14T13:20:51.222Z"
   },
   {
    "duration": 1877,
    "start_time": "2023-07-14T13:21:21.447Z"
   },
   {
    "duration": 292,
    "start_time": "2023-07-14T13:21:32.495Z"
   },
   {
    "duration": 242,
    "start_time": "2023-07-14T13:21:50.243Z"
   },
   {
    "duration": 253,
    "start_time": "2023-07-14T13:21:57.639Z"
   },
   {
    "duration": 240,
    "start_time": "2023-07-14T13:22:05.338Z"
   },
   {
    "duration": 216,
    "start_time": "2023-07-14T13:22:10.790Z"
   },
   {
    "duration": 220,
    "start_time": "2023-07-14T13:22:32.617Z"
   },
   {
    "duration": 9,
    "start_time": "2023-07-14T13:37:41.941Z"
   },
   {
    "duration": 14,
    "start_time": "2023-07-14T13:37:41.952Z"
   },
   {
    "duration": 37715,
    "start_time": "2023-07-14T13:37:41.969Z"
   },
   {
    "duration": 7,
    "start_time": "2023-07-14T13:39:03.635Z"
   },
   {
    "duration": 11852,
    "start_time": "2023-07-14T13:39:22.752Z"
   },
   {
    "duration": 25686,
    "start_time": "2023-07-14T13:40:39.934Z"
   },
   {
    "duration": 16602,
    "start_time": "2023-07-14T13:41:18.329Z"
   },
   {
    "duration": 9,
    "start_time": "2023-07-14T13:41:37.107Z"
   },
   {
    "duration": 6,
    "start_time": "2023-07-14T13:41:37.285Z"
   },
   {
    "duration": 36276,
    "start_time": "2023-07-14T13:41:37.436Z"
   },
   {
    "duration": 13,
    "start_time": "2023-07-14T13:42:13.714Z"
   },
   {
    "duration": 37308,
    "start_time": "2023-07-14T13:43:36.986Z"
   },
   {
    "duration": 27686,
    "start_time": "2023-07-14T13:44:55.372Z"
   },
   {
    "duration": 7,
    "start_time": "2023-07-14T13:45:43.010Z"
   },
   {
    "duration": 8,
    "start_time": "2023-07-14T13:45:43.019Z"
   },
   {
    "duration": 29040,
    "start_time": "2023-07-14T13:45:43.029Z"
   },
   {
    "duration": 280,
    "start_time": "2023-07-14T13:54:03.020Z"
   },
   {
    "duration": 8,
    "start_time": "2023-07-14T14:03:18.005Z"
   },
   {
    "duration": 14,
    "start_time": "2023-07-14T14:03:46.609Z"
   },
   {
    "duration": 20,
    "start_time": "2023-07-14T14:03:49.895Z"
   },
   {
    "duration": 793,
    "start_time": "2023-07-14T14:03:56.993Z"
   },
   {
    "duration": 945,
    "start_time": "2023-07-14T14:04:11.788Z"
   },
   {
    "duration": 1011,
    "start_time": "2023-07-14T14:04:22.832Z"
   },
   {
    "duration": 95,
    "start_time": "2023-07-14T14:04:37.903Z"
   },
   {
    "duration": 734,
    "start_time": "2023-07-14T14:04:40.674Z"
   },
   {
    "duration": 995,
    "start_time": "2023-07-14T14:04:54.129Z"
   },
   {
    "duration": 303,
    "start_time": "2023-07-14T14:06:42.958Z"
   },
   {
    "duration": 276,
    "start_time": "2023-07-14T14:07:00.375Z"
   },
   {
    "duration": 272,
    "start_time": "2023-07-14T14:07:09.818Z"
   },
   {
    "duration": 289,
    "start_time": "2023-07-14T14:07:17.317Z"
   },
   {
    "duration": 278,
    "start_time": "2023-07-14T14:07:24.052Z"
   },
   {
    "duration": 260,
    "start_time": "2023-07-14T14:07:49.974Z"
   },
   {
    "duration": 320,
    "start_time": "2023-07-14T14:07:54.573Z"
   },
   {
    "duration": 286,
    "start_time": "2023-07-14T14:07:58.239Z"
   },
   {
    "duration": 269,
    "start_time": "2023-07-14T14:08:00.496Z"
   },
   {
    "duration": 502,
    "start_time": "2023-07-14T14:08:05.090Z"
   },
   {
    "duration": 286,
    "start_time": "2023-07-14T14:08:30.997Z"
   },
   {
    "duration": 263,
    "start_time": "2023-07-14T14:08:35.840Z"
   },
   {
    "duration": 296,
    "start_time": "2023-07-14T14:08:41.125Z"
   },
   {
    "duration": 6,
    "start_time": "2023-07-14T14:08:53.075Z"
   },
   {
    "duration": 346,
    "start_time": "2023-07-14T14:09:28.744Z"
   },
   {
    "duration": 322,
    "start_time": "2023-07-14T14:09:32.382Z"
   },
   {
    "duration": 259,
    "start_time": "2023-07-14T14:09:37.302Z"
   },
   {
    "duration": 6,
    "start_time": "2023-07-14T14:09:44.198Z"
   },
   {
    "duration": 287,
    "start_time": "2023-07-14T14:09:48.661Z"
   },
   {
    "duration": 253,
    "start_time": "2023-07-14T14:10:21.962Z"
   },
   {
    "duration": 104,
    "start_time": "2023-07-14T14:10:28.215Z"
   },
   {
    "duration": 252,
    "start_time": "2023-07-14T14:10:30.078Z"
   },
   {
    "duration": 280,
    "start_time": "2023-07-14T14:10:44.979Z"
   },
   {
    "duration": 512,
    "start_time": "2023-07-14T14:10:50.943Z"
   },
   {
    "duration": 6,
    "start_time": "2023-07-14T14:11:06.484Z"
   },
   {
    "duration": 250,
    "start_time": "2023-07-14T14:11:35.332Z"
   },
   {
    "duration": 201,
    "start_time": "2023-07-14T14:12:05.483Z"
   },
   {
    "duration": 217,
    "start_time": "2023-07-14T14:12:31.635Z"
   },
   {
    "duration": 8,
    "start_time": "2023-07-14T14:12:37.122Z"
   },
   {
    "duration": 222,
    "start_time": "2023-07-14T14:12:39.240Z"
   },
   {
    "duration": 270,
    "start_time": "2023-07-14T14:12:48.036Z"
   },
   {
    "duration": 208,
    "start_time": "2023-07-14T14:12:51.019Z"
   },
   {
    "duration": 207,
    "start_time": "2023-07-14T14:12:59.558Z"
   },
   {
    "duration": 277,
    "start_time": "2023-07-14T14:13:02.814Z"
   },
   {
    "duration": 122,
    "start_time": "2023-07-14T14:13:33.033Z"
   },
   {
    "duration": 2195,
    "start_time": "2023-07-14T14:13:40.258Z"
   },
   {
    "duration": 19,
    "start_time": "2023-07-14T14:13:42.456Z"
   },
   {
    "duration": 7,
    "start_time": "2023-07-14T14:13:42.477Z"
   },
   {
    "duration": 72,
    "start_time": "2023-07-14T14:13:42.486Z"
   },
   {
    "duration": 4,
    "start_time": "2023-07-14T14:13:42.561Z"
   },
   {
    "duration": 21,
    "start_time": "2023-07-14T14:13:42.567Z"
   },
   {
    "duration": 391,
    "start_time": "2023-07-14T14:13:42.590Z"
   },
   {
    "duration": 273,
    "start_time": "2023-07-14T14:13:42.984Z"
   },
   {
    "duration": 329,
    "start_time": "2023-07-14T14:13:43.259Z"
   },
   {
    "duration": 3,
    "start_time": "2023-07-14T14:13:43.591Z"
   },
   {
    "duration": 495,
    "start_time": "2023-07-14T14:13:43.596Z"
   },
   {
    "duration": 13,
    "start_time": "2023-07-14T14:13:44.093Z"
   },
   {
    "duration": 40,
    "start_time": "2023-07-14T14:13:44.108Z"
   },
   {
    "duration": 58,
    "start_time": "2023-07-14T14:13:44.152Z"
   },
   {
    "duration": 31,
    "start_time": "2023-07-14T14:13:44.213Z"
   },
   {
    "duration": 1700,
    "start_time": "2023-07-14T14:13:44.246Z"
   },
   {
    "duration": 10,
    "start_time": "2023-07-14T14:13:45.948Z"
   },
   {
    "duration": 211,
    "start_time": "2023-07-14T14:13:45.959Z"
   },
   {
    "duration": 1484,
    "start_time": "2023-07-14T14:13:46.173Z"
   },
   {
    "duration": 4002,
    "start_time": "2023-07-14T14:13:47.664Z"
   },
   {
    "duration": 106,
    "start_time": "2023-07-14T14:13:51.678Z"
   },
   {
    "duration": 6,
    "start_time": "2023-07-14T14:13:51.787Z"
   },
   {
    "duration": 23628,
    "start_time": "2023-07-14T14:13:51.858Z"
   },
   {
    "duration": 74,
    "start_time": "2023-07-14T14:14:15.488Z"
   },
   {
    "duration": 1741,
    "start_time": "2023-07-14T14:14:15.564Z"
   },
   {
    "duration": 171,
    "start_time": "2023-07-14T14:14:17.307Z"
   },
   {
    "duration": 89,
    "start_time": "2023-07-14T14:15:13.120Z"
   },
   {
    "duration": 428,
    "start_time": "2023-07-14T14:15:17.083Z"
   },
   {
    "duration": 309,
    "start_time": "2023-07-14T14:15:28.060Z"
   },
   {
    "duration": 326,
    "start_time": "2023-07-14T14:15:37.176Z"
   },
   {
    "duration": 290,
    "start_time": "2023-07-14T14:15:41.360Z"
   },
   {
    "duration": 331,
    "start_time": "2023-07-14T14:15:58.242Z"
   },
   {
    "duration": 311,
    "start_time": "2023-07-14T14:16:01.749Z"
   },
   {
    "duration": 473,
    "start_time": "2023-07-14T14:16:04.245Z"
   },
   {
    "duration": 278,
    "start_time": "2023-07-14T14:16:06.030Z"
   },
   {
    "duration": 289,
    "start_time": "2023-07-14T14:16:09.162Z"
   },
   {
    "duration": 275,
    "start_time": "2023-07-14T14:16:11.068Z"
   },
   {
    "duration": 290,
    "start_time": "2023-07-14T14:16:16.561Z"
   },
   {
    "duration": 484,
    "start_time": "2023-07-14T14:16:24.204Z"
   },
   {
    "duration": 282,
    "start_time": "2023-07-14T14:16:31.369Z"
   },
   {
    "duration": 279,
    "start_time": "2023-07-14T14:16:34.396Z"
   },
   {
    "duration": 321,
    "start_time": "2023-07-14T14:16:37.508Z"
   },
   {
    "duration": 255,
    "start_time": "2023-07-14T14:17:27.391Z"
   },
   {
    "duration": 249,
    "start_time": "2023-07-14T14:17:35.327Z"
   },
   {
    "duration": 252,
    "start_time": "2023-07-14T14:17:39.767Z"
   },
   {
    "duration": 418,
    "start_time": "2023-07-14T14:18:18.165Z"
   },
   {
    "duration": 245,
    "start_time": "2023-07-14T14:18:22.812Z"
   },
   {
    "duration": 245,
    "start_time": "2023-07-14T14:18:45.917Z"
   },
   {
    "duration": 246,
    "start_time": "2023-07-14T14:18:50.812Z"
   },
   {
    "duration": 227,
    "start_time": "2023-07-14T14:18:58.495Z"
   },
   {
    "duration": 267,
    "start_time": "2023-07-14T14:19:00.691Z"
   },
   {
    "duration": 258,
    "start_time": "2023-07-14T14:19:11.822Z"
   },
   {
    "duration": 235,
    "start_time": "2023-07-14T14:19:14.621Z"
   },
   {
    "duration": 397,
    "start_time": "2023-07-14T14:19:24.548Z"
   },
   {
    "duration": 236,
    "start_time": "2023-07-14T14:19:30.795Z"
   },
   {
    "duration": 278,
    "start_time": "2023-07-14T14:19:37.493Z"
   },
   {
    "duration": 285,
    "start_time": "2023-07-14T14:19:40.668Z"
   },
   {
    "duration": 284,
    "start_time": "2023-07-14T14:19:42.426Z"
   },
   {
    "duration": 251,
    "start_time": "2023-07-14T14:19:45.682Z"
   },
   {
    "duration": 230,
    "start_time": "2023-07-14T14:19:50.267Z"
   },
   {
    "duration": 208,
    "start_time": "2023-07-14T14:20:20.807Z"
   },
   {
    "duration": 346,
    "start_time": "2023-07-14T14:20:25.419Z"
   },
   {
    "duration": 329,
    "start_time": "2023-07-14T14:20:28.898Z"
   },
   {
    "duration": 210,
    "start_time": "2023-07-14T14:20:56.802Z"
   },
   {
    "duration": 251,
    "start_time": "2023-07-14T14:21:02.785Z"
   },
   {
    "duration": 277,
    "start_time": "2023-07-14T14:21:08.769Z"
   },
   {
    "duration": 233,
    "start_time": "2023-07-14T14:21:16.679Z"
   },
   {
    "duration": 209,
    "start_time": "2023-07-14T14:21:19.801Z"
   },
   {
    "duration": 227,
    "start_time": "2023-07-14T14:21:34.267Z"
   },
   {
    "duration": 291,
    "start_time": "2023-07-14T14:21:45.286Z"
   },
   {
    "duration": 286,
    "start_time": "2023-07-14T14:22:01.655Z"
   },
   {
    "duration": 13,
    "start_time": "2023-07-14T14:22:10.200Z"
   },
   {
    "duration": 15,
    "start_time": "2023-07-14T14:22:45.207Z"
   },
   {
    "duration": 13903,
    "start_time": "2023-07-14T14:24:05.839Z"
   },
   {
    "duration": 321,
    "start_time": "2023-07-14T14:24:31.183Z"
   },
   {
    "duration": 299,
    "start_time": "2023-07-14T14:24:39.493Z"
   },
   {
    "duration": 3418,
    "start_time": "2023-07-15T10:05:09.947Z"
   },
   {
    "duration": 13,
    "start_time": "2023-07-15T10:05:13.367Z"
   },
   {
    "duration": 30,
    "start_time": "2023-07-15T10:05:13.382Z"
   },
   {
    "duration": 53,
    "start_time": "2023-07-15T10:05:13.414Z"
   },
   {
    "duration": 6,
    "start_time": "2023-07-15T10:05:13.470Z"
   },
   {
    "duration": 27,
    "start_time": "2023-07-15T10:05:13.478Z"
   },
   {
    "duration": 315,
    "start_time": "2023-07-15T10:05:13.506Z"
   },
   {
    "duration": 215,
    "start_time": "2023-07-15T10:05:13.823Z"
   },
   {
    "duration": 264,
    "start_time": "2023-07-15T10:05:14.040Z"
   },
   {
    "duration": 2,
    "start_time": "2023-07-15T10:05:14.308Z"
   },
   {
    "duration": 543,
    "start_time": "2023-07-15T10:05:14.311Z"
   },
   {
    "duration": 12,
    "start_time": "2023-07-15T10:05:14.855Z"
   },
   {
    "duration": 61,
    "start_time": "2023-07-15T10:05:14.868Z"
   },
   {
    "duration": 22,
    "start_time": "2023-07-15T10:05:14.930Z"
   },
   {
    "duration": 15,
    "start_time": "2023-07-15T10:05:14.953Z"
   },
   {
    "duration": 3063,
    "start_time": "2023-07-15T10:05:14.969Z"
   },
   {
    "duration": 4,
    "start_time": "2023-07-15T10:05:18.034Z"
   },
   {
    "duration": 85,
    "start_time": "2023-07-15T10:05:18.039Z"
   },
   {
    "duration": 1602,
    "start_time": "2023-07-15T10:05:18.127Z"
   },
   {
    "duration": 6300,
    "start_time": "2023-07-15T10:05:19.731Z"
   },
   {
    "duration": 187,
    "start_time": "2023-07-15T10:05:26.034Z"
   },
   {
    "duration": 13,
    "start_time": "2023-07-15T10:05:26.223Z"
   },
   {
    "duration": 9094,
    "start_time": "2023-07-15T10:05:26.237Z"
   },
   {
    "duration": 5,
    "start_time": "2023-07-15T10:05:35.332Z"
   },
   {
    "duration": 351,
    "start_time": "2023-07-15T10:05:35.338Z"
   },
   {
    "duration": 13787,
    "start_time": "2023-07-15T10:05:35.690Z"
   }
  ],
  "kernelspec": {
   "display_name": "Python 3",
   "language": "python",
   "name": "python3"
  },
  "language_info": {
   "codemirror_mode": {
    "name": "ipython",
    "version": 3
   },
   "file_extension": ".py",
   "mimetype": "text/x-python",
   "name": "python",
   "nbconvert_exporter": "python",
   "pygments_lexer": "ipython3",
   "version": "3.8.8"
  },
  "toc": {
   "base_numbering": 1,
   "nav_menu": {},
   "number_sections": true,
   "sideBar": true,
   "skip_h1_title": true,
   "title_cell": "Содержание",
   "title_sidebar": "Contents",
   "toc_cell": true,
   "toc_position": {
    "height": "calc(100% - 180px)",
    "left": "10px",
    "top": "150px",
    "width": "197.797px"
   },
   "toc_section_display": true,
   "toc_window_display": true
  }
 },
 "nbformat": 4,
 "nbformat_minor": 2
}
